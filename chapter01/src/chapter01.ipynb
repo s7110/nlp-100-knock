{
 "cells": [
  {
   "cell_type": "markdown",
   "metadata": {},
   "source": [
    "# 第1章: 準備運動"
   ]
  },
  {
   "cell_type": "markdown",
   "metadata": {},
   "source": [
    "## 00. 文字列の逆順\n",
    "文字列\"stressed\"の文字を逆に（末尾から先頭に向かって）並べた文字列を得よ．"
   ]
  },
  {
   "cell_type": "code",
   "execution_count": 1,
   "metadata": {},
   "outputs": [
    {
     "data": {
      "text/plain": [
       "'desserts'"
      ]
     },
     "execution_count": 1,
     "metadata": {},
     "output_type": "execute_result"
    }
   ],
   "source": [
    "'stressed'[::-1]"
   ]
  },
  {
   "cell_type": "markdown",
   "metadata": {},
   "source": [
    "## 01. 「パタトクカシーー」\n",
    "「パタトクカシーー」という文字列の1,3,5,7文字目を取り出して連結した文字列を得よ．"
   ]
  },
  {
   "cell_type": "code",
   "execution_count": 2,
   "metadata": {},
   "outputs": [
    {
     "data": {
      "text/plain": [
       "'パトカー'"
      ]
     },
     "execution_count": 2,
     "metadata": {},
     "output_type": "execute_result"
    }
   ],
   "source": [
    "'パタトクカシーー'[::2]"
   ]
  },
  {
   "cell_type": "markdown",
   "metadata": {},
   "source": [
    "## 02. 「パトカー」＋「タクシー」＝「パタトクカシーー」\n",
    "「パトカー」＋「タクシー」の文字を先頭から交互に連結して文字列「パタトクカシーー」を得よ．"
   ]
  },
  {
   "cell_type": "code",
   "execution_count": 3,
   "metadata": {},
   "outputs": [
    {
     "data": {
      "text/plain": [
       "'パタトクカシーー'"
      ]
     },
     "execution_count": 3,
     "metadata": {},
     "output_type": "execute_result"
    }
   ],
   "source": [
    "''.join([x+y for x, y in zip('パトカー', 'タクシー')])"
   ]
  },
  {
   "cell_type": "markdown",
   "metadata": {},
   "source": [
    "## 03. 円周率\n",
    "\"Now I need a drink, alcoholic of course, after the heavy lectures involving quantum mechanics.\"という文を単語に分解し，各単語の（アルファベットの）文字数を先頭から出現順に並べたリストを作成せよ．"
   ]
  },
  {
   "cell_type": "code",
   "execution_count": 4,
   "metadata": {},
   "outputs": [
    {
     "data": {
      "text/plain": [
       "[3, 1, 4, 1, 5, 9, 2, 6, 5, 3, 5, 8, 9, 7, 9]"
      ]
     },
     "execution_count": 4,
     "metadata": {},
     "output_type": "execute_result"
    }
   ],
   "source": [
    "[len(word.rstrip(',.')) for word in 'Now I need a drink, alcoholic of course, after the heavy lectures involving quantum mechanics.'.split(' ')]"
   ]
  },
  {
   "cell_type": "markdown",
   "metadata": {},
   "source": [
    "## 04. 元素記号\n",
    "\"Hi He Lied Because Boron Could Not Oxidize Fluorine. New Nations Might Also Sign Peace Security Clause. Arthur King Can.\"という文を単語に分解し，1, 5, 6, 7, 8, 9, 15, 16, 19番目の単語は先頭の1文字，それ以外の単語は先頭に2文字を取り出し，取り出した文字列から単語の位置（先頭から何番目の単語か）への連想配列（辞書型もしくはマップ型）を作成せよ．"
   ]
  },
  {
   "cell_type": "code",
   "execution_count": 2,
   "metadata": {},
   "outputs": [
    {
     "data": {
      "text/plain": [
       "{'Al': 13,\n",
       " 'Ar': 18,\n",
       " 'B': 5,\n",
       " 'Be': 4,\n",
       " 'C': 6,\n",
       " 'Ca': 20,\n",
       " 'Cl': 17,\n",
       " 'F': 9,\n",
       " 'H': 1,\n",
       " 'He': 2,\n",
       " 'K': 19,\n",
       " 'Li': 3,\n",
       " 'Mi': 12,\n",
       " 'N': 7,\n",
       " 'Na': 11,\n",
       " 'Ne': 10,\n",
       " 'O': 8,\n",
       " 'P': 15,\n",
       " 'S': 16,\n",
       " 'Si': 14}"
      ]
     },
     "execution_count": 2,
     "metadata": {},
     "output_type": "execute_result"
    }
   ],
   "source": [
    "def knock_04():\n",
    "    first_char_index = (1, 5, 6, 7, 8, 9, 15, 16, 19)\n",
    "    atomic_symbol = {}\n",
    "    for i, word in enumerate('Hi He Lied Because Boron Could Not Oxidize Fluorine. New Nations Might Also Sign Peace Security Clause. Arthur King Can.'.split(' ')):\n",
    "        index = i+1\n",
    "        key = word[:1] if index in first_char_index else word[:2]\n",
    "        atomic_symbol[key] = index\n",
    "    return atomic_symbol\n",
    "\n",
    "knock_04()"
   ]
  },
  {
   "cell_type": "markdown",
   "metadata": {},
   "source": [
    "## 05. n-gram\n",
    "与えられたシーケンス（文字列やリストなど）からn-gramを作る関数を作成せよ．この関数を用い，\"I am an NLPer\"という文から単語bi-gram，文字bi-gramを得よ．"
   ]
  },
  {
   "cell_type": "code",
   "execution_count": 75,
   "metadata": {},
   "outputs": [
    {
     "name": "stdout",
     "output_type": "stream",
     "text": [
      "文字bi-gram: ['I ', ' a', 'am', 'm ', ' a', 'an', 'n ', ' N', 'NL', 'LP', 'Pe', 'er']\n",
      "単語bi-gram: [['I', 'am'], ['am', 'an'], ['an', 'NLPer']]\n"
     ]
    }
   ],
   "source": [
    "def n_gram(seq, n):\n",
    "    if n < 1:\n",
    "        raise AssertionError('n must be more than 1.')\n",
    "    if len(seq) < n:\n",
    "        return [seq]\n",
    "    return [seq[i:i+n] for i in range(0, len(seq)-n+1)]\n",
    "        \n",
    "print('文字bi-gram: ' + str(n_gram('I am an NLPer', 2)))\n",
    "print('単語bi-gram: ' + str(n_gram('I am an NLPer'.split(' '), 2)))"
   ]
  },
  {
   "cell_type": "markdown",
   "metadata": {},
   "source": [
    "## 06. 集合\n",
    "\"paraparaparadise\"と\"paragraph\"に含まれる文字bi-gramの集合を，それぞれ, XとYとして求め，XとYの和集合，積集合，差集合を求めよ．さらに，'se'というbi-gramがXおよびYに含まれるかどうかを調べよ．"
   ]
  },
  {
   "cell_type": "code",
   "execution_count": 89,
   "metadata": {},
   "outputs": [
    {
     "name": "stdout",
     "output_type": "stream",
     "text": [
      "X: {'se', 'di', 'ar', 'is', 'pa', 'ad', 'ra', 'ap'}\n",
      "Y: {'gr', 'ar', 'ag', 'ph', 'pa', 'ra', 'ap'}\n",
      "和集合: {'gr', 'se', 'di', 'ar', 'ag', 'is', 'ph', 'pa', 'ad', 'ra', 'ap'}\n",
      "積集合: {'ar', 'ra', 'ap', 'pa'}\n",
      "差集合: {'di', 'ad', 'se', 'is'}\n",
      "\"se\" がXに含まれるか: True\n",
      "\"se\" がYに含まれるか: False\n"
     ]
    }
   ],
   "source": [
    "X = set(n_gram('paraparaparadise', 2))\n",
    "Y = set(n_gram('paragraph', 2))\n",
    "print('X: ' + str(X))\n",
    "print('Y: ' + str(Y))\n",
    "print('和集合: ' + str(X | Y))\n",
    "print('積集合: ' + str(X & Y))\n",
    "print('差集合: ' + str(X - Y))\n",
    "print('\"se\" がXに含まれるか: ' + str('se' in X))\n",
    "print('\"se\" がYに含まれるか: ' + str('se' in Y))"
   ]
  },
  {
   "cell_type": "markdown",
   "metadata": {},
   "source": [
    "## 07. テンプレートによる文生成\n",
    "引数x, y, zを受け取り「x時のyはz」という文字列を返す関数を実装せよ．さらに，x=12, y=\"気温\", z=22.4として，実行結果を確認せよ．"
   ]
  },
  {
   "cell_type": "code",
   "execution_count": 94,
   "metadata": {},
   "outputs": [
    {
     "data": {
      "text/plain": [
       "'12時の気温は22.4'"
      ]
     },
     "execution_count": 94,
     "metadata": {},
     "output_type": "execute_result"
    }
   ],
   "source": [
    "def knock_07(x, y, z):\n",
    "    return '{x}時の{y}は{z}'.format(x=x, y=y, z=z)\n",
    "\n",
    "knock_07(12, '気温', '22.4')"
   ]
  },
  {
   "cell_type": "markdown",
   "metadata": {},
   "source": [
    "## 08. 暗号文\n",
    "与えられた文字列の各文字を，以下の仕様で変換する関数cipherを実装せよ．\n",
    "\n",
    "- 英小文字ならば(219 - 文字コード)の文字に置換\n",
    "- その他の文字はそのまま出力\n",
    "\n",
    "この関数を用い，英語のメッセージを暗号化・復号化せよ．"
   ]
  },
  {
   "cell_type": "code",
   "execution_count": 105,
   "metadata": {},
   "outputs": [
    {
     "name": "stdout",
     "output_type": "stream",
     "text": [
      "元の文字列: Now I need a drink, alcoholic of course, after the heavy lectures involving quantum mechanics.\n",
      "暗号化: Nld I mvvw z wirmp, zoxlslorx lu xlfihv, zugvi gsv svzeb ovxgfivh rmeloermt jfzmgfn nvxszmrxh.\n",
      "復号化: Now I need a drink, alcoholic of course, after the heavy lectures involving quantum mechanics.\n"
     ]
    }
   ],
   "source": [
    "def cipher(text):\n",
    "    return ''.join(map(lambda c: chr(219 - ord(c)) if c.islower() else c , text))\n",
    "\n",
    "def knock_08():\n",
    "    original = 'Now I need a drink, alcoholic of course, after the heavy lectures involving quantum mechanics.'\n",
    "    print('元の文字列: ' + original)\n",
    "    \n",
    "    encrypted = cipher(original)\n",
    "    print('暗号化: ' + encrypted)\n",
    "    \n",
    "    decrypted = cipher(encrypted)\n",
    "    print('復号化: ' + decrypted)\n",
    "    \n",
    "knock_08()"
   ]
  },
  {
   "cell_type": "markdown",
   "metadata": {},
   "source": [
    "## 09. Typoglycemia\n",
    "スペースで区切られた単語列に対して，各単語の先頭と末尾の文字は残し，それ以外の文字の順序をランダムに並び替えるプログラムを作成せよ．ただし，長さが４以下の単語は並び替えないこととする．適当な英語の文（例えば\"I couldn't believe that I could actually understand what I was reading : the phenomenal power of the human mind .\"）を与え，その実行結果を確認せよ．"
   ]
  },
  {
   "cell_type": "code",
   "execution_count": 191,
   "metadata": {},
   "outputs": [
    {
     "name": "stdout",
     "output_type": "stream",
     "text": [
      "I clo'nudt blveiee that I cluod actlluay unstrnedad what I was rendaig : the pmneehnoal poewr of the human mind .\n"
     ]
    }
   ],
   "source": [
    "import random\n",
    "\n",
    "def knock_09(text):\n",
    "    \n",
    "    def typoglycemia(word):\n",
    "        if len(word) <= 4:\n",
    "            return word\n",
    "        return word[0] + ''.join(random.sample(word[1:-1:1], len(word)-2)) + word[-1]\n",
    "    \n",
    "    return ' '.join([typoglycemia(word) for word in text.split(' ')])\n",
    "    \n",
    "\n",
    "print(knock_09(\"I couldn't believe that I could actually understand what I was reading : the phenomenal power of the human mind .\"))"
   ]
  },
  {
   "cell_type": "code",
   "execution_count": null,
   "metadata": {},
   "outputs": [],
   "source": []
  }
 ],
 "metadata": {
  "kernelspec": {
   "display_name": "Python 3",
   "language": "python",
   "name": "python3"
  },
  "language_info": {
   "codemirror_mode": {
    "name": "ipython",
    "version": 3
   },
   "file_extension": ".py",
   "mimetype": "text/x-python",
   "name": "python",
   "nbconvert_exporter": "python",
   "pygments_lexer": "ipython3",
   "version": "3.6.2"
  }
 },
 "nbformat": 4,
 "nbformat_minor": 2
}
