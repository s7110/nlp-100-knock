{
 "cells": [
  {
   "cell_type": "markdown",
   "metadata": {},
   "source": [
    "# 第4章: 形態素解析\n",
    "夏目漱石の小説『吾輩は猫である』の文章（neko.txt）をMeCabを使って形態素解析し，その結果をneko.txt.mecabというファイルに保存せよ．このファイルを用いて，以下の問に対応するプログラムを実装せよ．\n",
    "\n",
    "なお，問題37, 38, 39はmatplotlibもしくはGnuplotを用いるとよい．"
   ]
  },
  {
   "cell_type": "markdown",
   "metadata": {},
   "source": [
    "## 30. 形態素解析結果の読み込み\n",
    "形態素解析結果（neko.txt.mecab）を読み込むプログラムを実装せよ．ただし，各形態素は表層形（surface），基本形（base），品詞（pos），品詞細分類1（pos1）をキーとするマッピング型に格納し，1文を形態素（マッピング型）のリストとして表現せよ．第4章の残りの問題では，ここで作ったプログラムを活用せよ．"
   ]
  },
  {
   "cell_type": "code",
   "execution_count": 1,
   "metadata": {},
   "outputs": [
    {
     "name": "stdout",
     "output_type": "stream",
     "text": [
      "一\t名詞,数,*,*,*,*,一,イチ,イチ\r\n",
      "EOS\r\n",
      "EOS\r\n",
      "　\t記号,空白,*,*,*,*,　,　,　\r\n",
      "吾輩\t名詞,代名詞,一般,*,*,*,吾輩,ワガハイ,ワガハイ\r\n",
      "は\t助詞,係助詞,*,*,*,*,は,ハ,ワ\r\n",
      "猫\t名詞,一般,*,*,*,*,猫,ネコ,ネコ\r\n",
      "で\t助動詞,*,*,*,特殊・ダ,連用形,だ,デ,デ\r\n",
      "ある\t助動詞,*,*,*,五段・ラ行アル,基本形,ある,アル,アル\r\n",
      "。\t記号,句点,*,*,*,*,。,。,。\r\n"
     ]
    }
   ],
   "source": [
    "!head -n 10 ../data/neko.txt.mecab"
   ]
  },
  {
   "cell_type": "code",
   "execution_count": 2,
   "metadata": {},
   "outputs": [
    {
     "name": "stdout",
     "output_type": "stream",
     "text": [
      "[{'表層形': '一', '品詞': '名詞', '品詞細分類1': '数', '原型': '一'}]\n",
      "[]\n",
      "[{'表層形': '\\u3000', '品詞': '記号', '品詞細分類1': '空白', '原型': '\\u3000'}, {'表層形': '吾輩', '品詞': '名詞', '品詞細分類1': '代名詞', '原型': '吾輩'}, {'表層形': 'は', '品詞': '助詞', '品詞細分類1': '係助詞', '原型': 'は'}, {'表層形': '猫', '品詞': '名詞', '品詞細分類1': '一般', '原型': '猫'}, {'表層形': 'で', '品詞': '助動詞', '品詞細分類1': '*', '原型': 'だ'}, {'表層形': 'ある', '品詞': '助動詞', '品詞細分類1': '*', '原型': 'ある'}, {'表層形': '。', '品詞': '記号', '品詞細分類1': '句点', '原型': '。'}]\n",
      "[{'表層形': '名前', '品詞': '名詞', '品詞細分類1': '一般', '原型': '名前'}, {'表層形': 'は', '品詞': '助詞', '品詞細分類1': '係助詞', '原型': 'は'}, {'表層形': 'まだ', '品詞': '副詞', '品詞細分類1': '助詞類接続', '原型': 'まだ'}, {'表層形': '無い', '品詞': '形容詞', '品詞細分類1': '自立', '原型': '無い'}, {'表層形': '。', '品詞': '記号', '品詞細分類1': '句点', '原型': '。'}]\n",
      "[]\n"
     ]
    }
   ],
   "source": [
    "from itertools import groupby, islice\n",
    "\n",
    "def gen_morph_of_sentence():    \n",
    "    mecab_format = ['表層形', '品詞','品詞細分類1', '品詞細分類2', '品詞細分類3', '活用形', '活用型','原型','読み','発音']\n",
    "    filtered_result_format = ['表層形', '品詞','品詞細分類1','原型']\n",
    "    with open('../data/neko.txt.mecab') as f:\n",
    "        morph_of_sentense = []\n",
    "        for line in f:\n",
    "            if line == 'EOS\\n':\n",
    "                yield morph_of_sentense\n",
    "                morph_of_sentense = []\n",
    "            else:\n",
    "                full_morph_result = dict(zip(mecab_format, line.replace('\\t', ',').replace('\\n', ',').split(',')))\n",
    "                morph_of_sentense.append({k: v for k, v in full_morph_result.items() if k in filtered_result_format})\n",
    "\n",
    "for morph_of_sentence in islice(gen_morph_of_sentence(), 5):\n",
    "    print(morph_of_sentence)"
   ]
  },
  {
   "cell_type": "markdown",
   "metadata": {},
   "source": [
    "## 31. 動詞\n",
    "動詞の表層形をすべて抽出せよ．"
   ]
  },
  {
   "cell_type": "code",
   "execution_count": 3,
   "metadata": {},
   "outputs": [
    {
     "name": "stdout",
     "output_type": "stream",
     "text": [
      "やめる\n",
      "分け\n",
      "引き付け\n",
      "磨き\n",
      "伏せっ\n",
      "届い\n",
      "刻ん\n",
      "ころがり\n",
      "かま\n",
      "漕ぎ\n"
     ]
    }
   ],
   "source": [
    "def extract_verb(form):\n",
    "    words = []\n",
    "    for morph_of_sentence in gen_morph_of_sentence():\n",
    "        words += [morph[form] for morph in morph_of_sentence if morph['品詞'] == '動詞']\n",
    "    return set(words)\n",
    "    \n",
    "for verb_surface in islice(extract_verb('表層形'), 10):\n",
    "    print(verb_surface)"
   ]
  },
  {
   "cell_type": "markdown",
   "metadata": {},
   "source": [
    "## 32. 動詞の原形\n",
    "動詞の原形をすべて抽出せよ．"
   ]
  },
  {
   "cell_type": "code",
   "execution_count": 4,
   "metadata": {},
   "outputs": [
    {
     "name": "stdout",
     "output_type": "stream",
     "text": [
      "やめる\n",
      "あきる\n",
      "取り合う\n",
      "取上げる\n",
      "阿る\n",
      "かわす\n",
      "つむ\n",
      "巡る\n",
      "適す\n",
      "為す\n"
     ]
    }
   ],
   "source": [
    "for verb_surface in islice(extract_verb('原型'), 10):\n",
    "    print(verb_surface)"
   ]
  },
  {
   "cell_type": "markdown",
   "metadata": {},
   "source": [
    "## 33. サ変名詞\n",
    "サ変接続の名詞をすべて抽出せよ．"
   ]
  },
  {
   "cell_type": "code",
   "execution_count": 5,
   "metadata": {},
   "outputs": [
    {
     "name": "stdout",
     "output_type": "stream",
     "text": [
      "回向\n",
      "突進\n",
      "相違\n",
      "訓戒\n",
      "誘致\n",
      "白状\n",
      "欠勤\n",
      "置き去り\n",
      "露出\n",
      "通用\n"
     ]
    }
   ],
   "source": [
    "def extract_noun(pos_detail1):\n",
    "    words = []\n",
    "    for morph_of_sentence in gen_morph_of_sentence():\n",
    "        words += [morph['表層形'] for morph in morph_of_sentence if morph['品詞細分類1'] == pos_detail1]\n",
    "    return set(words)\n",
    "    \n",
    "for verb_surface in islice(extract_noun('サ変接続'), 10):\n",
    "    print(verb_surface)"
   ]
  },
  {
   "cell_type": "markdown",
   "metadata": {},
   "source": [
    "## 34. 「AのB」\n",
    "2つの名詞が「の」で連結されている名詞句を抽出せよ．"
   ]
  },
  {
   "cell_type": "code",
   "execution_count": 6,
   "metadata": {},
   "outputs": [
    {
     "name": "stdout",
     "output_type": "stream",
     "text": [
      "さんの庭口\n",
      "他の動物\n",
      "人間の十\n",
      "前の方\n",
      "不思議の極\n",
      "週間の間\n",
      "僕のうち\n",
      "腹の上\n",
      "疱瘡のため\n",
      "相当の論拠\n"
     ]
    }
   ],
   "source": [
    "def knock_34():\n",
    "    noun_phrases = []\n",
    "    for morph_of_sentence in gen_morph_of_sentence():    \n",
    "        for i, morph in enumerate(morph_of_sentence):\n",
    "            if morph['品詞'] == '助詞' and morph['表層形'] == 'の' and i != 0 and i < len(morph_of_sentence)-1: #for avoiding IndexError \n",
    "                noun_phrases.append(morph_of_sentence[i-1]['表層形'] + morph['表層形'] + morph_of_sentence[i+1]['表層形'])\n",
    "    return set(noun_phrases)\n",
    "\n",
    "for noun_phrase in islice(knock_34(), 10):\n",
    "    print(noun_phrase)"
   ]
  },
  {
   "cell_type": "markdown",
   "metadata": {},
   "source": [
    "## 35. 名詞の連接\n",
    "名詞の連接（連続して出現する名詞）を最長一致で抽出せよ．"
   ]
  },
  {
   "cell_type": "code",
   "execution_count": 7,
   "metadata": {
    "scrolled": true
   },
   "outputs": [
    {
     "name": "stdout",
     "output_type": "stream",
     "text": [
      "居士安永五年辰正月\n",
      "二十分\n",
      "欧洲人こと\n",
      "鉄牛心\n",
      "次郎ちゃんとこ\n",
      "候折柄\n",
      "空也餅引掛所\n",
      "一体車屋\n",
      "迷亭君自身\n",
      "数千年来\n"
     ]
    }
   ],
   "source": [
    "def knock_35():\n",
    "    conjunction_nouns = []\n",
    "    for morph_of_sentence in gen_morph_of_sentence():\n",
    "        conjunction_noun = []\n",
    "        for is_noun, morph_of_conjunction_noun in groupby(morph_of_sentence, key=lambda morph: morph['品詞'] == '名詞'):\n",
    "            if is_noun:\n",
    "                conjunction_noun = [morph['表層形'] for morph in morph_of_conjunction_noun]\n",
    "            else:\n",
    "                if len(conjunction_noun) > 2:\n",
    "                    conjunction_nouns.append(\"\".join(conjunction_noun))\n",
    "                conjunction_noun = []\n",
    "    return set(conjunction_nouns)\n",
    "                \n",
    "for conjunction_noun in islice(knock_35(), 10):\n",
    "    print(conjunction_noun)"
   ]
  },
  {
   "cell_type": "markdown",
   "metadata": {},
   "source": [
    "## 36. 単語の出現頻度\n",
    "文章中に出現する単語とその出現頻度を求め，出現頻度の高い順に並べよ．"
   ]
  },
  {
   "cell_type": "code",
   "execution_count": 8,
   "metadata": {
    "scrolled": true
   },
   "outputs": [
    {
     "name": "stdout",
     "output_type": "stream",
     "text": [
      "('の', 9194)\n",
      "('て', 6868)\n",
      "('は', 6420)\n",
      "('に', 6243)\n",
      "('を', 6071)\n",
      "('と', 5508)\n",
      "('が', 5337)\n",
      "('た', 3988)\n",
      "('で', 3806)\n",
      "('も', 2479)\n",
      "('ない', 2390)\n",
      "('だ', 2363)\n",
      "('し', 2322)\n",
      "('から', 2032)\n",
      "('ある', 1728)\n",
      "('な', 1613)\n",
      "('ん', 1568)\n",
      "('か', 1530)\n",
      "('いる', 1249)\n",
      "('事', 1207)\n"
     ]
    }
   ],
   "source": [
    "from collections import Counter\n",
    "\n",
    "def knock_36():\n",
    "    word_counter = Counter()\n",
    "    for morph_of_sentence in gen_morph_of_sentence():\n",
    "        word_counter.update([morph['表層形'] for morph in morph_of_sentence if morph['品詞'] != '記号'])\n",
    "    return word_counter.most_common()\n",
    "\n",
    "for word_high_frequency in islice(knock_36(), 20):\n",
    "    print(word_high_frequency)"
   ]
  },
  {
   "cell_type": "markdown",
   "metadata": {},
   "source": [
    "## 37. 頻度上位10語\n",
    "出現頻度が高い10語とその出現頻度をグラフ（例えば棒グラフなど）で表示せよ．"
   ]
  },
  {
   "cell_type": "code",
   "execution_count": 9,
   "metadata": {},
   "outputs": [
    {
     "data": {
      "image/png": "[encoded data removed]",
      "text/plain": [
       "<matplotlib.figure.Figure at 0x7f48a5569470>"
      ]
     },
     "metadata": {},
     "output_type": "display_data"
    }
   ],
   "source": [
    "import matplotlib.pyplot as plt\n",
    "from matplotlib.font_manager import FontProperties\n",
    "from matplotlib import rcParams\n",
    "\n",
    "font_path = '/usr/local/share/fonts/ipaexg.ttf'\n",
    "fp = FontProperties(fname=font_path)\n",
    "rcParams['font.family'] = fp.get_name()\n",
    "\n",
    "def knock_37():\n",
    "    words_count = islice(knock_36(), 10)\n",
    "    zipped_words_count_list = list(zip(*words_count))\n",
    "    word_list = zipped_words_count_list[0]\n",
    "    count_list = zipped_words_count_list[1]\n",
    "    \n",
    "    plt.bar(range(len(word_list)), count_list, width=0.8)\n",
    "    plt.title('頻度上位10語の単語と出現頻度')\n",
    "    plt.xticks(range(len(word_list)), word_list)\n",
    "    plt.xlabel('単語')\n",
    "    plt.ylabel('出現頻度')\n",
    "    plt.show()\n",
    "    \n",
    "knock_37()"
   ]
  },
  {
   "cell_type": "markdown",
   "metadata": {},
   "source": [
    "## 38. ヒストグラム\n",
    "単語の出現頻度のヒストグラム（横軸に出現頻度，縦軸に出現頻度をとる単語の種類数を棒グラフで表したもの）を描け．"
   ]
  },
  {
   "cell_type": "code",
   "execution_count": 10,
   "metadata": {},
   "outputs": [
    {
     "data": {
      "image/png": "[encoded data removed]",
      "text/plain": [
       "<matplotlib.figure.Figure at 0x7f48cc6ed128>"
      ]
     },
     "metadata": {},
     "output_type": "display_data"
    }
   ],
   "source": [
    "import matplotlib.pyplot as plt\n",
    "from matplotlib.font_manager import FontProperties\n",
    "\n",
    "def knock_38():\n",
    "    count_list =[word_count[1] for word_count in knock_36()]\n",
    "    \n",
    "    plt.hist(count_list, bins=30, range=(1, 30))\n",
    "    plt.title('単語の出現頻度のヒストグラム')\n",
    "    plt.xlim(xmin=1, xmax=30)\n",
    "    plt.xlabel('単語の出現頻度')\n",
    "    plt.ylabel('単語の種類数')\n",
    "    plt.show()\n",
    "    \n",
    "knock_38()"
   ]
  },
  {
   "cell_type": "markdown",
   "metadata": {},
   "source": [
    "## 39. Zipfの法則\n",
    "単語の出現頻度順位を横軸，その出現頻度を縦軸として，両対数グラフをプロットせよ．"
   ]
  },
  {
   "cell_type": "code",
   "execution_count": 11,
   "metadata": {},
   "outputs": [
    {
     "data": {
      "image/png": "[encoded data removed]",
      "text/plain": [
       "<matplotlib.figure.Figure at 0x7f48c4da4358>"
      ]
     },
     "metadata": {},
     "output_type": "display_data"
    }
   ],
   "source": [
    "import matplotlib.pyplot as plt\n",
    "from matplotlib.font_manager import FontProperties\n",
    "\n",
    "def knock_39():\n",
    "    words_count = knock_36()\n",
    "    zipped_words_count_list = list(zip(*words_count))\n",
    "    word_list = zipped_words_count_list[0]\n",
    "    count_list = zipped_words_count_list[1]\n",
    "\n",
    "    plt.scatter(range(len(word_list)), count_list)\n",
    "    plt.title('Zipfの法則')\n",
    "    plt.xscale(\"log\")\n",
    "    plt.xlim(xmin=1, xmax=len(word_list))\n",
    "    plt.yscale(\"log\")\n",
    "    plt.xlabel('単語の出現順位')\n",
    "    plt.ylabel('出現頻度')\n",
    "    plt.show()\n",
    "    \n",
    "knock_39()"
   ]
  }
 ],
 "metadata": {
  "kernelspec": {
   "display_name": "Python 3",
   "language": "python",
   "name": "python3"
  },
  "language_info": {
   "codemirror_mode": {
    "name": "ipython",
    "version": 3
   },
   "file_extension": ".py",
   "mimetype": "text/x-python",
   "name": "python",
   "nbconvert_exporter": "python",
   "pygments_lexer": "ipython3",
   "version": "3.6.2"
  }
 },
 "nbformat": 4,
 "nbformat_minor": 2
}
