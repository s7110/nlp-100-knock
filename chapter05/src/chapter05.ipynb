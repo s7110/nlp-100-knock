{
 "cells": [
  {
   "cell_type": "markdown",
   "metadata": {},
   "source": [
    "# 第5章: 係り受け解析\n",
    "夏目漱石の小説『吾輩は猫である』の文章（neko.txt）をCaboChaを使って係り受け解析し，その結果をneko.txt.cabochaというファイルに保存せよ．このファイルを用いて，以下の問に対応するプログラムを実装せよ．"
   ]
  },
  {
   "cell_type": "markdown",
   "metadata": {},
   "source": [
    "## 40. 係り受け解析結果の読み込み（形態素）\n",
    "形態素を表すクラスMorphを実装せよ．このクラスは表層形（surface），基本形（base），品詞（pos），品詞細分類1（pos1）をメンバ変数に持つこととする．さらに，CaboChaの解析結果（neko.txt.cabocha）を読み込み，各文をMorphオブジェクトのリストとして表現し，3文目の形態素列を表示せよ．"
   ]
  },
  {
   "cell_type": "code",
   "execution_count": 1,
   "metadata": {},
   "outputs": [
    {
     "name": "stdout",
     "output_type": "stream",
     "text": [
      "* 0 -1D 0/0 0.000000\r\n",
      "一\t名詞,数,*,*,*,*,一,イチ,イチ\r\n",
      "EOS\r\n",
      "EOS\r\n",
      "* 0 2D 0/0 -0.764522\r\n",
      "　\t記号,空白,*,*,*,*,　,　,　\r\n",
      "* 1 2D 0/1 -0.764522\r\n",
      "吾輩\t名詞,代名詞,一般,*,*,*,吾輩,ワガハイ,ワガハイ\r\n",
      "は\t助詞,係助詞,*,*,*,*,は,ハ,ワ\r\n",
      "* 2 -1D 0/2 0.000000\r\n",
      "猫\t名詞,一般,*,*,*,*,猫,ネコ,ネコ\r\n",
      "で\t助動詞,*,*,*,特殊・ダ,連用形,だ,デ,デ\r\n",
      "ある\t助動詞,*,*,*,五段・ラ行アル,基本形,ある,アル,アル\r\n",
      "。\t記号,句点,*,*,*,*,。,。,。\r\n",
      "EOS\r\n",
      "* 0 2D 0/1 -1.911675\r\n",
      "名前\t名詞,一般,*,*,*,*,名前,ナマエ,ナマエ\r\n",
      "は\t助詞,係助詞,*,*,*,*,は,ハ,ワ\r\n",
      "* 1 2D 0/0 -1.911675\r\n",
      "まだ\t副詞,助詞類接続,*,*,*,*,まだ,マダ,マダ\r\n",
      "* 2 -1D 0/0 0.000000\r\n",
      "無い\t形容詞,自立,*,*,形容詞・アウオ段,基本形,無い,ナイ,ナイ\r\n",
      "。\t記号,句点,*,*,*,*,。,。,。\r\n",
      "EOS\r\n"
     ]
    }
   ],
   "source": [
    "!head -n 24 ../data/neko.txt.cabocha"
   ]
  },
  {
   "cell_type": "code",
   "execution_count": 2,
   "metadata": {},
   "outputs": [
    {
     "name": "stdout",
     "output_type": "stream",
     "text": [
      "{'表層形': '\\u3000', '原型': '\\u3000', '品詞': '記号', '品詞細分類1': '空白'}\n",
      "{'表層形': '吾輩', '原型': '吾輩', '品詞': '名詞', '品詞細分類1': '代名詞'}\n",
      "{'表層形': 'は', '原型': 'は', '品詞': '助詞', '品詞細分類1': '係助詞'}\n",
      "{'表層形': '猫', '原型': '猫', '品詞': '名詞', '品詞細分類1': '一般'}\n",
      "{'表層形': 'で', '原型': 'だ', '品詞': '助動詞', '品詞細分類1': '*'}\n",
      "{'表層形': 'ある', '原型': 'ある', '品詞': '助動詞', '品詞細分類1': '*'}\n",
      "{'表層形': '。', '原型': '。', '品詞': '記号', '品詞細分類1': '句点'}\n"
     ]
    }
   ],
   "source": [
    "from itertools import groupby\n",
    "\n",
    "class Morph:\n",
    "\n",
    "    def __init__(self, line):\n",
    "        \"\"\"\n",
    "        Arguments\n",
    "        line: str\n",
    "            MeCabで形態素解析した一単語の結果。\n",
    "            フォーマットは 表層形\\t品詞,品詞細分類1,品詞細分類2,品詞細分類3,活用形,活用型,原型,読み,発音\n",
    "        \"\"\"\n",
    "        surface, pos, pos1, _, _, _, _, base, *other = [line.split('\\t')[0]] + line.split('\\t')[1].rstrip('\\n').split(',')\n",
    "        self.__surface = surface\n",
    "        self.__base = base\n",
    "        self.__pos = pos\n",
    "        self.__pos1 = pos1\n",
    "    \n",
    "    @property\n",
    "    def surface(self):\n",
    "        return self.__surface\n",
    "    \n",
    "    @property\n",
    "    def base(self):\n",
    "        return self.__base\n",
    "    \n",
    "    @property\n",
    "    def pos(self):\n",
    "        return self.__pos\n",
    "\n",
    "    @property\n",
    "    def pos1(self):\n",
    "        return self.__pos1\n",
    "    \n",
    "    def __str__(self):\n",
    "        return str({'表層形':self.__surface, '原型':self.__base, '品詞':self.__pos, '品詞細分類1':self.__pos1})\n",
    "    \n",
    "def gen_morph_of_sentence(): \n",
    "    with open('../data/neko.txt.cabocha') as f:\n",
    "        morph_of_sentense = []\n",
    "        for is_eos, sentence in groupby(f, key=lambda line: line.rstrip('\\n') == 'EOS'):\n",
    "            if is_eos:\n",
    "                # 空行を1文とみなすための処理\n",
    "                # 空行がある場合は連続したEOSがgroupbyでまとめられるため、EOSの数だけリストを返す\n",
    "                for _ in sentence:\n",
    "                    yield morph_of_sentense\n",
    "                    morph_of_sentense = []\n",
    "            else:\n",
    "                for is_start_of_chunk, morphs_info in groupby(sentence, key=lambda line: 0 < len(line) and line[0] == '*'):\n",
    "                    if not is_start_of_chunk:\n",
    "                        morph_of_sentense += [ Morph(morph_info) for morph_info in morphs_info ]\n",
    "\n",
    "for i, morph_of_sentence in enumerate(gen_morph_of_sentence()):\n",
    "    if i== 2:\n",
    "        for morph in morph_of_sentence:\n",
    "            print(morph)    "
   ]
  },
  {
   "cell_type": "markdown",
   "metadata": {},
   "source": [
    "## 41. 係り受け解析結果の読み込み（文節・係り受け）\n",
    "40に加えて，文節を表すクラスChunkを実装せよ．このクラスは形態素（Morphオブジェクト）のリスト（morphs），係り先文節インデックス番号（dst），係り元文節インデックス番号のリスト（srcs）をメンバ変数に持つこととする．さらに，入力テキストのCaboChaの解析結果を読み込み，１文をChunkオブジェクトのリストとして表現し，8文目の文節の文字列と係り先を表示せよ．第5章の残りの問題では，ここで作ったプログラムを活用せよ．"
   ]
  },
  {
   "cell_type": "code",
   "execution_count": 3,
   "metadata": {},
   "outputs": [
    {
     "name": "stdout",
     "output_type": "stream",
     "text": [
      "0 吾輩は\tdst：5\n",
      "1 ここで\tdst：2\n",
      "2 始めて\tdst：3\n",
      "3 人間という\tdst：4\n",
      "4 ものを\tdst：5\n",
      "5 見た。\tdst：None\n"
     ]
    }
   ],
   "source": [
    "from itertools import groupby\n",
    "\n",
    "class Chunk:\n",
    "    \n",
    "    def __init__(self, dependency_info, morphs_info):\n",
    "        _, chunk_id, dst, *other = dependency_info.split(' ')\n",
    "        self.__chunk_id = int(chunk_id)\n",
    "        self.__dst = int(dst.rstrip('D'))\n",
    "        self.__morphs = [ Morph(morph_info) for morph_info in morphs_info ]\n",
    "        self.__srcs = []\n",
    "    \n",
    "    @property\n",
    "    def chunk_id(self):\n",
    "        return self.__chunk_id\n",
    "    \n",
    "    @property\n",
    "    def dst(self):\n",
    "        if self.__dst == -1:\n",
    "            return None\n",
    "        return self.__dst\n",
    "\n",
    "    @property\n",
    "    def srcs(self):\n",
    "        return self.__srcs\n",
    "    \n",
    "    def add_src(self, src_index):\n",
    "        self.__srcs.append(src_index)\n",
    "\n",
    "    def get_surface(self):\n",
    "        return ''.join(morph.surface for morph in self.__morphs)\n",
    "    \n",
    "    # for knock_42\n",
    "    def get_surface_except_punctuation(self):\n",
    "        return ''.join(morph.surface for morph in self.__morphs if morph.pos != '記号')    \n",
    "    \n",
    "    # for knock_43\n",
    "    def has_noun(self):\n",
    "        for morph in self.__morphs:\n",
    "            if morph.pos == '名詞':\n",
    "                return True\n",
    "        return False\n",
    "    \n",
    "    # for knock_43\n",
    "    def has_verb(self):\n",
    "        for morph in self.__morphs:\n",
    "            if morph.pos == '動詞':\n",
    "                return True\n",
    "        return False\n",
    "    \n",
    "    # for knock_45\n",
    "    def get_first_verb(self):\n",
    "        # 最左の動詞の基本形を取得する\n",
    "        for morph in self.__morphs:\n",
    "            if morph.pos == '動詞':\n",
    "                return morph.base\n",
    "        return None\n",
    "    \n",
    "    # for knock_45\n",
    "    def get_last_particle(self):\n",
    "        # 最右の助詞の表層形を取得する\n",
    "        for morph in reversed(self.__morphs):\n",
    "            if morph.pos == '助詞':\n",
    "                return morph.surface\n",
    "        return None\n",
    "    \n",
    "    # for knock_47\n",
    "    def get_sahen_noun_and_wo(self):\n",
    "        for i, morph in reversed(list(enumerate(self.__morphs))):\n",
    "            if morph.pos == '助詞' and morph.surface == 'を':\n",
    "                if i != 0 and self.__morphs[i-1].pos == '名詞' and self.__morphs[i-1].pos1 == 'サ変接続':\n",
    "                    return self.__morphs[i-1].surface + morph.surface\n",
    "        return None\n",
    "        \n",
    "    def __str__(self):\n",
    "        msg = str(self.chunk_id) + ' '\n",
    "        msg += self.get_surface()\n",
    "        msg += '\\tdst：' + str(self.dst)\n",
    "        return msg\n",
    "    \n",
    "\n",
    "def gen_chunks_in_sentence():\n",
    "    with open('../data/neko.txt.cabocha') as f:\n",
    "        chunks_in_a_sentence = []\n",
    "        for is_eos, sentence in groupby(f, key=lambda line: line.rstrip('\\n') == 'EOS'):\n",
    "            if is_eos:\n",
    "                # 空行を1文とみなすための処理\n",
    "                # 空行がある場合は連続したEOSがgroupbyでまとめられるため、EOSの数だけリストを返す\n",
    "                for _ in sentence:\n",
    "                    for chunk in chunks_in_a_sentence:\n",
    "                        # 各chunkの係り先のchunkに対して、自身のidをsrcとして設定\n",
    "                        dst = chunk.dst\n",
    "                        if dst is not None:\n",
    "                            chunks_in_a_sentence[dst].add_src(chunk.chunk_id)\n",
    "                    yield chunks_in_a_sentence\n",
    "                    chunks_in_a_sentence = []\n",
    "            else:\n",
    "                dependency_info = None\n",
    "                for is_start_of_chunk, chunk_info in groupby(sentence, key=lambda line: 0 < len(line) and line[0] == '*'):\n",
    "                    if is_start_of_chunk:\n",
    "                        dependency_info = list(chunk_info)[0]\n",
    "                    else:\n",
    "                        morphs_info = list(chunk_info)\n",
    "                        chunk = Chunk(dependency_info, morphs_info)\n",
    "                        chunks_in_a_sentence.append(chunk)\n",
    "            \n",
    "for i, chunks_in_sentence in enumerate(gen_chunks_in_sentence()):\n",
    "    if i == 7:\n",
    "        for chunk in chunks_in_sentence:\n",
    "            print(chunk)"
   ]
  },
  {
   "cell_type": "markdown",
   "metadata": {},
   "source": [
    "## 42. 係り元と係り先の文節の表示\n",
    "係り元の文節と係り先の文節のテキストをタブ区切り形式ですべて抽出せよ．ただし，句読点などの記号は出力しないようにせよ．"
   ]
  },
  {
   "cell_type": "code",
   "execution_count": 4,
   "metadata": {},
   "outputs": [
    {
     "name": "stdout",
     "output_type": "stream",
     "text": [
      "吾輩は\t猫である\n",
      "名前は\t無い\n",
      "まだ\t無い\n",
      "どこで\t生れたか\n",
      "生れたか\tつかぬ\n",
      "とんと\tつかぬ\n",
      "見当が\tつかぬ\n",
      "何でも\t薄暗い\n",
      "薄暗い\t所で\n",
      "じめじめした\t所で\n",
      "所で\t泣いて\n",
      "ニャーニャー\t泣いて\n",
      "泣いて\t記憶している\n",
      "いた事だけは\t記憶している\n",
      "吾輩は\t見た\n",
      "ここで\t始めて\n",
      "始めて\t人間という\n",
      "人間という\tものを\n",
      "ものを\t見た\n",
      "しかも\t種族であったそうだ\n",
      "あとで\t聞くと\n",
      "聞くと\t種族であったそうだ\n",
      "それは\t種族であったそうだ\n",
      "書生という\t人間中で\n",
      "人間中で\t種族であったそうだ\n",
      "一番\t獰悪な\n",
      "獰悪な\t種族であったそうだ\n",
      "この\t書生というのは\n",
      "書生というのは\t話である\n",
      "時々\t捕えて\n"
     ]
    }
   ],
   "source": [
    "from itertools import islice\n",
    "\n",
    "def knock_42():\n",
    "    for chunks_in_sentence in gen_chunks_in_sentence():\n",
    "        for chunk in chunks_in_sentence:\n",
    "            dst = chunk.dst\n",
    "            if dst is None:\n",
    "                continue\n",
    "            src_surface = chunk.get_surface_except_punctuation()\n",
    "            dst_surface = chunks_in_sentence[dst].get_surface_except_punctuation()\n",
    "            if src_surface != '' and dst_surface != '':\n",
    "                yield src_surface + '\\t' + dst_surface\n",
    "                \n",
    "for chunk in islice(knock_42(), 30):\n",
    "    print(chunk)               "
   ]
  },
  {
   "cell_type": "markdown",
   "metadata": {},
   "source": [
    "## 43. 名詞を含む文節が動詞を含む文節に係るものを抽出\n",
    "名詞を含む文節が，動詞を含む文節に係るとき，これらをタブ区切り形式で抽出せよ．ただし，句読点などの記号は出力しないようにせよ．"
   ]
  },
  {
   "cell_type": "code",
   "execution_count": 5,
   "metadata": {},
   "outputs": [
    {
     "name": "stdout",
     "output_type": "stream",
     "text": [
      "どこで\t生れたか\n",
      "見当が\tつかぬ\n",
      "所で\t泣いて\n",
      "ニャーニャー\t泣いて\n",
      "いた事だけは\t記憶している\n",
      "吾輩は\t見た\n",
      "ここで\t始めて\n",
      "ものを\t見た\n",
      "あとで\t聞くと\n",
      "我々を\t捕えて\n",
      "掌に\t載せられて\n",
      "スーと\t持ち上げられた\n",
      "時\tフワフワした\n",
      "感じが\tあったばかりである\n",
      "上で\t落ちついて\n",
      "顔を\t見たのが\n",
      "ものの\t見始であろう\n",
      "ものだと\t思った\n",
      "感じが\t残っている\n",
      "今でも\t残っている\n",
      "第一毛をもって\t装飾されべきはずの\n",
      "顔が\tつるつるして\n",
      "その後\t逢ったが\n",
      "猫にも\t逢ったが\n",
      "一度も\t出会わした\n",
      "真中が\t突起している\n",
      "中から\t吹く\n",
      "ぷうぷうと煙を\t吹く\n",
      "咽せぽくて\t弱った\n",
      "人間の\t飲む\n"
     ]
    }
   ],
   "source": [
    "from itertools import islice\n",
    "\n",
    "def knock_43():\n",
    "    for chunks_in_sentence in gen_chunks_in_sentence():      \n",
    "        for chunk in chunks_in_sentence:\n",
    "                dst = chunk.dst\n",
    "                if dst is not None and chunk.has_noun() and chunks_in_sentence[dst].has_verb():\n",
    "                    src_surface = chunk.get_surface_except_punctuation()\n",
    "                    dst_surface = chunks_in_sentence[dst].get_surface_except_punctuation()\n",
    "                    if src_surface != '' and dst_surface != '':\n",
    "                        yield src_surface + '\\t' + dst_surface\n",
    "                \n",
    "for chunk in islice(knock_43(), 30):\n",
    "    print(chunk)     "
   ]
  },
  {
   "cell_type": "markdown",
   "metadata": {},
   "source": [
    "## 44. 係り受け木の可視化\n",
    "与えられた文の係り受け木を有向グラフとして可視化せよ．可視化には，係り受け木をDOT言語に変換し，Graphvizを用いるとよい．また，Pythonから有向グラフを直接的に可視化するには，pydotを使うとよい．"
   ]
  },
  {
   "cell_type": "code",
   "execution_count": 6,
   "metadata": {
    "scrolled": true
   },
   "outputs": [
    {
     "name": "stdout",
     "output_type": "stream",
     "text": [
      "吾輩はここで始めて人間というものを見た。\n",
      "0 吾輩は\tdst：5\n",
      "1 ここで\tdst：2\n",
      "2 始めて\tdst：3\n",
      "3 人間という\tdst：4\n",
      "4 ものを\tdst：5\n",
      "5 見た。\tdst：None\n"
     ]
    },
    {
     "data": {
      "image/png": "[encoded data removed]",
      "text/plain": [
       "<IPython.core.display.Image object>"
      ]
     },
     "metadata": {},
     "output_type": "display_data"
    }
   ],
   "source": [
    "import subprocess\n",
    "import pydot\n",
    "from IPython.display import Image, display\n",
    "                        \n",
    "def knock_44():\n",
    "    INPUT_FILE_PATH = '../data/knock_44_input.txt'\n",
    "    OUTPUT_FILE_PATH = '../data/knock_44_output.txt'\n",
    "\n",
    "    def gen_chunks_in_file():\n",
    "        with open(OUTPUT_FILE_PATH) as f:\n",
    "            chunks_in_a_sentence = []\n",
    "            for is_eos, sentence in groupby(f, key=lambda line: line.rstrip('\\n') == 'EOS'):\n",
    "                if is_eos:\n",
    "                    for chunk in chunks_in_a_sentence:\n",
    "                        # 各chunkの係り先のchunkに対して、自身のidをsrcとして設定\n",
    "                        dst = chunk.dst\n",
    "                        if dst is not None:\n",
    "                            chunks_in_a_sentence[dst].add_src(chunk.chunk_id)\n",
    "                    yield chunks_in_a_sentence\n",
    "                    chunks_in_a_sentence = []\n",
    "                else:\n",
    "                    dependency_info = None\n",
    "                    for is_start_of_chunk, chunk_info in groupby(sentence, key=lambda line: 0 < len(line) and line[0] == '*'):\n",
    "                        if is_start_of_chunk:\n",
    "                            dependency_info = list(chunk_info)[0]\n",
    "                        else:\n",
    "                            morphs_info = list(chunk_info)\n",
    "                            chunk = Chunk(dependency_info, morphs_info)\n",
    "                            chunks_in_a_sentence.append(chunk)\n",
    "    \n",
    "    def write_dependency_to_file(text):\n",
    "        CMD_CAT = 'cat %s' % INPUT_FILE_PATH\n",
    "        CMD_CABOCHA = 'cabocha -f1 -o %s' % OUTPUT_FILE_PATH\n",
    "        \n",
    "        with open(INPUT_FILE_PATH, \"w\") as f:\n",
    "            f.write(text)\n",
    "        ps = subprocess.Popen(CMD_CAT.split(' '), stdout=subprocess.PIPE)\n",
    "        subprocess.check_call(CMD_CABOCHA.split(' '), stdin=ps.stdout)\n",
    "        ps.wait()\n",
    "        \n",
    "    def to_pydot_node(chunk):\n",
    "        surface = chunk.get_surface_except_punctuation()\n",
    "        if surface == '':\n",
    "            # 記号の除去後に空文字の場合はノードとして追加しない\n",
    "            return None\n",
    "        return pydot.Node(chunk.chunk_id, label=surface)\n",
    "    \n",
    "    def to_pydot_edge(src_chunk, dst_chunk):\n",
    "        src_surface = src_chunk.get_surface_except_punctuation()\n",
    "        dst_surface = dst_chunk.get_surface_except_punctuation()\n",
    "        if src_surface == '' or dst_surface == '':\n",
    "            # 記号の除去後に空文字の場合はノードとして追加しない\n",
    "            return None\n",
    "        return graph.add_edge(pydot.Edge(src_chunk.chunk_id, dst_chunk.chunk_id))\n",
    "    \n",
    "    text = input()\n",
    "    write_dependency_to_file(text)\n",
    "    graph = pydot.Dot(graph_type='digraph')\n",
    "    for chunks in gen_chunks_in_file():\n",
    "        for chunk in chunks:\n",
    "            print(chunk)\n",
    "            \n",
    "            node = to_pydot_node(chunk)\n",
    "            if not node:\n",
    "                continue\n",
    "            graph.add_node(node)\n",
    "                \n",
    "            dst = chunk.dst\n",
    "            if not dst:\n",
    "                continue\n",
    "            edge = to_pydot_edge(chunk, chunks[dst])\n",
    "            if not edge:\n",
    "                continue\n",
    "            graph.add_edge(edge)\n",
    "            \n",
    "    plt = Image(graph.create_png())\n",
    "    display(plt)\n",
    "\n",
    "knock_44()"
   ]
  },
  {
   "cell_type": "markdown",
   "metadata": {},
   "source": [
    "## 45. 動詞の格パターンの抽出\n",
    "今回用いている文章をコーパスと見なし，日本語の述語が取りうる格を調査したい． 動詞を述語，動詞に係っている文節の助詞を格と考え，述語と格をタブ区切り形式で出力せよ． ただし，出力は以下の仕様を満たすようにせよ．\n",
    "\n",
    "- 動詞を含む文節において，最左の動詞の基本形を述語とする\n",
    "- 述語に係る助詞を格とする\n",
    "- 述語に係る助詞（文節）が複数あるときは，すべての助詞をスペース区切りで辞書順に並べる\n",
    "\n",
    "「吾輩はここで始めて人間というものを見た」という例文（neko.txt.cabochaの8文目）を考える． この文は「始める」と「見る」の２つの動詞を含み，「始める」に係る文節は「ここで」，「見る」に係る文節は「吾輩は」と「ものを」と解析された場合は，次のような出力になるはずである．\n",
    "\n",
    "    始める  で\n",
    "    見る    は を\n",
    "このプログラムの出力をファイルに保存し，以下の事項をUNIXコマンドを用いて確認せよ．\n",
    "\n",
    "- コーパス中で頻出する述語と格パターンの組み合わせ\n",
    "- 「する」「見る」「与える」という動詞の格パターン（コーパス中で出現頻度の高い順に並べよ）"
   ]
  },
  {
   "cell_type": "code",
   "execution_count": 7,
   "metadata": {},
   "outputs": [
    {
     "name": "stdout",
     "output_type": "stream",
     "text": [
      "生れる\tで\n",
      "つく\tか が\n",
      "泣く\tで\n",
      "する\tて は\n",
      "始める\tで\n",
      "見る\tは を\n",
      "聞く\tで\n",
      "捕える\tを\n",
      "煮る\tて\n",
      "食う\tて\n",
      "思う\tから\n",
      "載せる\tに\n",
      "持ち上げる\tて と\n",
      "ある\tが\n",
      "落ちつく\tで\n",
      "見る\tて を\n",
      "見る\tの\n",
      "思う\tと\n",
      "残る\tが でも\n",
      "する\tをもって\n"
     ]
    }
   ],
   "source": [
    "def knock_45():\n",
    "    for chunks_in_a_sentence in gen_chunks_in_sentence():\n",
    "        for chunk in chunks_in_a_sentence:\n",
    "            if chunk.has_verb():\n",
    "                srcs_particles = []\n",
    "                for src in chunk.srcs:\n",
    "                    src_particle = chunks_in_a_sentence[src].get_last_particle()\n",
    "                    if src_particle:\n",
    "                        srcs_particles.append(src_particle)\n",
    "                if len(srcs_particles) == 0:\n",
    "                    continue\n",
    "                yield '%s\\t%s' % (chunk.get_first_verb(), ' '.join(sorted(srcs_particles)))\n",
    "\n",
    "with open('../data/knock_45.txt', mode='w') as f:\n",
    "    for i, s in enumerate(knock_45()):\n",
    "        if i < 20:\n",
    "            print(s)\n",
    "        f.write(s + '\\n')"
   ]
  },
  {
   "cell_type": "code",
   "execution_count": 8,
   "metadata": {},
   "outputs": [
    {
     "name": "stdout",
     "output_type": "stream",
     "text": [
      "    704 云う\tと\r\n",
      "    452 する\tを\r\n",
      "    333 思う\tと\r\n",
      "    202 ある\tが\r\n",
      "    199 なる\tに\r\n",
      "    188 する\tに\r\n",
      "    175 見る\tて\r\n",
      "    159 する\tと\r\n",
      "    117 する\tが\r\n",
      "    113 する\tに を\r\n",
      "     98 見る\tを\r\n",
      "     97 見える\tと\r\n",
      "     90 する\tて を\r\n",
      "     85 する\tは\r\n",
      "     61 する\tて\r\n",
      "     60 する\tが を\r\n",
      "     60 する\tも\r\n",
      "     60 もつ\tを\r\n",
      "     57 ある\tの\r\n",
      "     56 云う\tを\r\n"
     ]
    }
   ],
   "source": [
    "# コーパス中で頻出する述語と格パターンの組み合わせ\n",
    "!cat ../data/knock_45.txt | LC_ALL=C sort | uniq -c | sort -nr 2>/dev/null | head -20"
   ]
  },
  {
   "cell_type": "code",
   "execution_count": 9,
   "metadata": {},
   "outputs": [
    {
     "name": "stdout",
     "output_type": "stream",
     "text": [
      "    452 する\tを\r\n",
      "    188 する\tに\r\n",
      "    159 する\tと\r\n",
      "    117 する\tが\r\n",
      "    113 する\tに を\r\n",
      "     90 する\tて を\r\n",
      "     85 する\tは\r\n",
      "     61 する\tて\r\n",
      "     60 する\tが を\r\n",
      "     60 する\tも\r\n",
      "     51 する\tから\r\n",
      "     51 する\tと を\r\n",
      "     46 する\tで を\r\n",
      "     40 する\tの\r\n",
      "     39 する\tと は\r\n",
      "     37 する\tから を\r\n",
      "     37 する\tは を\r\n",
      "     36 する\tで\r\n",
      "     32 する\tが と\r\n",
      "     32 する\tが に\r\n"
     ]
    }
   ],
   "source": [
    "#「する」の格パターン（コーパス中で出現頻度の高い順に並べよ）\n",
    "!cat ../data/knock_45.txt | grep '^する' | LC_ALL=C sort | uniq -c | sort -nr 2>/dev/null | head -20 "
   ]
  },
  {
   "cell_type": "code",
   "execution_count": 10,
   "metadata": {},
   "outputs": [
    {
     "name": "stdout",
     "output_type": "stream",
     "text": [
      "    175 見る\tて\r\n",
      "     98 見る\tを\r\n",
      "     23 見る\tて て\r\n",
      "     21 見る\tて も\r\n",
      "     20 見る\tから\r\n",
      "     17 見る\tと\r\n",
      "     13 見る\tて は\r\n",
      "     12 見る\tから て\r\n",
      "     12 見る\tで\r\n",
      "      9 見る\tに\r\n",
      "      8 見る\tて て は\r\n",
      "      8 見る\tて と\r\n",
      "      8 見る\tが\r\n",
      "      7 見る\tが を\r\n",
      "      7 見る\tと へ\r\n",
      "      7 見る\tに を\r\n",
      "      6 見る\tて は を\r\n",
      "      6 見る\tは は\r\n",
      "      6 見る\tも\r\n",
      "      5 見る\tから て に\r\n"
     ]
    }
   ],
   "source": [
    "#「見る」の格パターン（コーパス中で出現頻度の高い順に並べよ）\n",
    "!cat ../data/knock_45.txt | grep '^見る' | LC_ALL=C sort | uniq -c | sort -nr 2>/dev/null | head -20 "
   ]
  },
  {
   "cell_type": "code",
   "execution_count": 11,
   "metadata": {},
   "outputs": [
    {
     "name": "stdout",
     "output_type": "stream",
     "text": [
      "      4 与える\tに を\r\n",
      "      3 与える\tて に を\r\n",
      "      2 与える\tて に は を\r\n",
      "      2 与える\tば を\r\n",
      "      1 与える\tけれども は を\r\n",
      "      1 与える\tか として\r\n",
      "      1 与える\tが て と に は は を\r\n",
      "      1 与える\tて に に は を\r\n",
      "      1 与える\tて と は を\r\n",
      "      1 与える\tは は も\r\n",
      "      1 与える\tが を\r\n"
     ]
    }
   ],
   "source": [
    "#「与える」の格パターン（コーパス中で出現頻度の高い順に並べよ）\n",
    "!cat ../data/knock_45.txt | grep '^与える' | LC_ALL=C sort | uniq -c | sort -nr"
   ]
  },
  {
   "cell_type": "markdown",
   "metadata": {},
   "source": [
    "## 46. 動詞の格フレーム情報の抽出\n",
    "45のプログラムを改変し，述語と格パターンに続けて項（述語に係っている文節そのもの）をタブ区切り形式で出力せよ．45の仕様に加えて，以下の仕様を満たすようにせよ．\n",
    "\n",
    "- 項は述語に係っている文節の単語列とする（末尾の助詞を取り除く必要はない）\n",
    "- 述語に係る文節が複数あるときは，助詞と同一の基準・順序でスペース区切りで並べる\n",
    "\n",
    "「吾輩はここで始めて人間というものを見た」という例文（neko.txt.cabochaの8文目）を考える． この文は「始める」と「見る」の２つの動詞を含み，「始める」に係る文節は「ここで」，「見る」に係る文節は「吾輩は」と「ものを」と解析された場合は，次のような出力になるはずである．\n",
    "\n",
    "    始める  で      ここで\n",
    "    見る    は を   吾輩は ものを"
   ]
  },
  {
   "cell_type": "code",
   "execution_count": 12,
   "metadata": {},
   "outputs": [
    {
     "name": "stdout",
     "output_type": "stream",
     "text": [
      "生れる\tで\tどこで\n",
      "つく\tか が\t生れたか 見当が\n",
      "泣く\tで\t所で\n",
      "する\tて は\t泣いて いた事だけは\n",
      "始める\tで\tここで\n",
      "見る\tは を\t吾輩は ものを\n",
      "聞く\tで\tあとで\n",
      "捕える\tを\t我々を\n",
      "煮る\tて\t捕えて\n",
      "食う\tて\t煮て\n",
      "思う\tから\tなかったから\n",
      "載せる\tに\t掌に\n",
      "持ち上げる\tて と\t載せられて スーと\n",
      "ある\tが\t感じが\n",
      "落ちつく\tで\t上で\n",
      "見る\tて を\t落ちついて 顔を\n",
      "見る\tの\tものの\n",
      "思う\tと\tものだと\n",
      "残る\tが でも\t感じが 今でも\n",
      "する\tをもって\t第一毛をもって\n"
     ]
    }
   ],
   "source": [
    "from itertools import islice\n",
    "\n",
    "def knock_46():\n",
    "    for chunks_in_a_sentence in gen_chunks_in_sentence():\n",
    "        for chunk in chunks_in_a_sentence:\n",
    "            if chunk.has_verb():\n",
    "                srcs_particles = []\n",
    "                srcs_arguments = []\n",
    "                for src in chunk.srcs:\n",
    "                    src_chunk = chunks_in_a_sentence[src]\n",
    "                    src_particle = src_chunk.get_last_particle()\n",
    "                    if src_particle:\n",
    "                        srcs_particles.append(src_particle)\n",
    "                        srcs_arguments.append(src_chunk.get_surface_except_punctuation())\n",
    "                if len(srcs_particles) == 0:\n",
    "                    continue\n",
    "                    \n",
    "                # 助詞の辞書順になるように、助詞と項をソート\n",
    "                particles_and_arguments = zip(srcs_particles, srcs_arguments)\n",
    "                ordered_particles, ordered_arguments = zip(*sorted(particles_and_arguments, key=lambda x: x[0]))\n",
    "                yield '%s\\t%s\\t%s' % (chunk.get_first_verb(), ' '.join(ordered_particles), ' '.join(ordered_arguments))\n",
    "    \n",
    "for s in islice(knock_46(), 20):\n",
    "    print(s)"
   ]
  },
  {
   "cell_type": "markdown",
   "metadata": {},
   "source": [
    "## 47. 機能動詞構文のマイニング\n",
    "動詞のヲ格にサ変接続名詞が入っている場合のみに着目したい．46のプログラムを以下の仕様を満たすように改変せよ．\n",
    "\n",
    "- 「サ変接続名詞+を（助詞）」で構成される文節が動詞に係る場合のみを対象とする\n",
    "- 述語は「サ変接続名詞+を+動詞の基本形」とし，文節中に複数の動詞があるときは，最左の動詞を用いる\n",
    "- 述語に係る助詞（文節）が複数あるときは，すべての助詞をスペース区切りで辞書順に並べる\n",
    "- 述語に係る文節が複数ある場合は，すべての項をスペース区切りで並べる（助詞の並び順と揃えよ）\n",
    "\n",
    "例えば「別段くるにも及ばんさと、主人は手紙に返事をする。」という文から，以下の出力が得られるはずである．\n",
    "\n",
    "    返事をする      と に は        及ばんさと 手紙に 主人は\n",
    "\n",
    "このプログラムの出力をファイルに保存し，以下の事項をUNIXコマンドを用いて確認せよ．\n",
    "\n",
    "- コーパス中で頻出する述語（サ変接続名詞+を+動詞）\n",
    "- コーパス中で頻出する述語と助詞パターン"
   ]
  },
  {
   "cell_type": "code",
   "execution_count": 13,
   "metadata": {},
   "outputs": [
    {
     "name": "stdout",
     "output_type": "stream",
     "text": [
      "決心をする\tと\tこうと\n",
      "返報をする\tんで\t偸んで\n",
      "昼寝をする\t\t\n",
      "昼寝をする\tが\t彼が\n",
      "迫害を加える\tて\t追い廻して\n",
      "生活をする\tが\t我等猫族が\n",
      "話をする\t\t\n",
      "投書をする\tて へ\tやって ほととぎすへ\n",
      "話をする\tに\t時に\n",
      "写生をする\t\t\n",
      "昼寝をする\tて\t出て\n",
      "彩色を見る\t\t\n",
      "欠伸をする\tから て て\tなったから して 押し出して\n",
      "報道をする\tに\t耳に\n",
      "挨拶をする\t\t\n",
      "御馳走を食う\tと\t見ると\n",
      "問答をする\t\t\n",
      "雑談をする\tながら は\t寝転びながら 黒は\n",
      "自慢をする\t\t\n",
      "呼吸を飲み込む\tから\tなってから\n"
     ]
    }
   ],
   "source": [
    "from itertools import islice\n",
    "\n",
    "def knock_47():\n",
    "    for chunks_in_a_sentence in gen_chunks_in_sentence():\n",
    "        for chunk in chunks_in_a_sentence:\n",
    "            if chunk.has_verb():\n",
    "                sahen_noun_and_verb = None\n",
    "                srcs_particles = []\n",
    "                srcs_arguments = []\n",
    "                for src in chunk.srcs:\n",
    "                    src_chunk = chunks_in_a_sentence[src]\n",
    "                    src_particle = src_chunk.get_last_particle()\n",
    "                    if src_particle:\n",
    "                        if src_particle == 'を':\n",
    "                            sahen_noun_wo = src_chunk.get_sahen_noun_and_wo()\n",
    "                            if sahen_noun_wo:\n",
    "                                # サ変接続名詞 + を（助詞） + 動詞の基本形\n",
    "                                sahen_noun_and_verb = sahen_noun_wo + chunk.get_first_verb()\n",
    "                        else:\n",
    "                            srcs_particles.append(src_particle)\n",
    "                            srcs_arguments.append(src_chunk.get_surface_except_punctuation())\n",
    "                if not sahen_noun_and_verb:\n",
    "                    continue\n",
    "                    \n",
    "                ordered_particles = []\n",
    "                ordered_arguments = []\n",
    "                if len(srcs_particles) != 0:\n",
    "                    # 助詞の辞書順になるように、助詞と項をソート\n",
    "                    particles_and_arguments = zip(srcs_particles, srcs_arguments)\n",
    "                    ordered_particles, ordered_arguments = zip(*sorted(particles_and_arguments, key=lambda x: x[0]))\n",
    "                yield '%s\\t%s\\t%s' % (sahen_noun_and_verb, ' '.join(ordered_particles), ' '.join(ordered_arguments))\n",
    "    \n",
    "with open('../data/knock_47.txt', mode='w') as f:\n",
    "    for i, s in enumerate(knock_47()):\n",
    "        if i < 20:\n",
    "            print(s)\n",
    "        f.write(s + '\\n')"
   ]
  },
  {
   "cell_type": "code",
   "execution_count": null,
   "metadata": {},
   "outputs": [],
   "source": []
  }
 ],
 "metadata": {
  "kernelspec": {
   "display_name": "Python 3",
   "language": "python",
   "name": "python3"
  },
  "language_info": {
   "codemirror_mode": {
    "name": "ipython",
    "version": 3
   },
   "file_extension": ".py",
   "mimetype": "text/x-python",
   "name": "python",
   "nbconvert_exporter": "python",
   "pygments_lexer": "ipython3",
   "version": "3.6.2"
  }
 },
 "nbformat": 4,
 "nbformat_minor": 2
}
