{
 "cells": [
  {
   "cell_type": "markdown",
   "metadata": {},
   "source": [
    "# 第7章: データベース\n",
    "artist.json.gzは，オープンな音楽データベースMusicBrainzの中で，アーティストに関するものをJSON形式に変換し，gzip形式で圧縮したファイルである．このファイルには，1アーティストに関する情報が1行にJSON形式で格納されている．JSON形式の概要は以下の通りである．\n",
    "\n",
    "|フィールド|型|内容|例|\n",
    "|--|--|--|--|\n",
    "|id|ユニーク識別子|整数|20660|\n",
    "|gid|グローバル識別子|文字列|\"ecf9f3a3-35e9-4c58-acaa-e707fba45060\"|\n",
    "|name|アーティスト名|文字列|\"Oasis\"|\n",
    "|sort_name|アーティスト名（辞書順整列用）|文字列|\"Oasis\"|\n",
    "|area|活動場所|文字列|\"United Kingdom\"|\n",
    "|aliases|別名|辞書オブジェクトのリスト||\n",
    "|aliases[].name|別名|文字列|\"オアシス\"|\n",
    "|aliases[].sort_name|別名（整列用）|文字列|\"オアシス\"|\n",
    "|begin|活動開始日|辞書||\n",
    "|begin.year|活動開始年|整数|1991|\n",
    "|begin.month|活動開始月|整数||\n",
    "|begin.date|活動開始日|整数||\n",
    "|end|活動終了日|辞書||\n",
    "|end.year|活動終了年|整数|2009|\n",
    "|end.month|活動終了月|整数|8|\n",
    "|end.date|活動終了日|整数|28|\n",
    "|tags|タグ|辞書オブジェクトのリスト||\n",
    "|tags[].count|タグ付けされた回数|整数|1|\n",
    "|tags[].value|タグ内容|文字列|\"rock\"|\n",
    "|rating|レーティング|辞書オブジェクト||\n",
    "|rating.count|レーティングの投票数|整数|13|\n",
    "|rating.value|レーティングの値（平均値）|整数|86|\n",
    "\n",
    "artist.json.gzのデータをKey-Value-Store (KVS) およびドキュメント志向型データベースに格納・検索することを考える．KVSとしては，LevelDB，Redis，KyotoCabinet等を用いよ．ドキュメント志向型データベースとして，MongoDBを採用したが，CouchDBやRethinkDB等を用いてもよい．"
   ]
  },
  {
   "cell_type": "markdown",
   "metadata": {},
   "source": [
    "## 60. KVSの構築\n",
    "Key-Value-Store (KVS) を用い，アーティスト名（name）から活動場所（area）を検索するためのデータベースを構築せよ．"
   ]
  },
  {
   "cell_type": "code",
   "execution_count": 1,
   "metadata": {},
   "outputs": [],
   "source": [
    "# Redisのインストール\n",
    "# apt-get install redis-server\n",
    "\n",
    "# redis-pyのインストール\n",
    "# pip install redis"
   ]
  },
  {
   "cell_type": "code",
   "execution_count": 2,
   "metadata": {},
   "outputs": [
    {
     "name": "stdout",
     "output_type": "stream",
     "text": [
      "{\"name\": \"WIK▲N\", \"tags\": [{\"count\": 1, \"value\": \"sillyname\"}], \"sort_name\": \"WIK▲N\", \"ended\": true, \"gid\": \"8972b1c1-6482-4750-b51f-596d2edea8b1\", \"id\": 805192}\r\n",
      "{\"name\": \"Gustav Ruppke\", \"sort_name\": \"Gustav Ruppke\", \"ended\": true, \"gid\": \"b4f76788-7e6f-41b7-ac7b-dfb67f66282e\", \"type\": \"Person\", \"id\": 578352}\r\n",
      "{\"name\": \"Pete Moutso\", \"sort_name\": \"Moutso, Pete\", \"ended\": true, \"gid\": \"49add228-eac5-4de8-836c-d75cde7369c3\", \"type\": \"Person\", \"id\": 371203}\r\n",
      "{\"ended\": true, \"gid\": \"c112a400-af49-4665-8bba-741531d962a1\", \"sort_name\": \"Zachary\", \"id\": 273232, \"name\": \"Zachary\"}\r\n",
      "{\"name\": \"The High Level Ranters\", \"sort_name\": \"High Level Ranters, The\", \"ended\": true, \"gid\": \"c42eed94-e233-44e2-82b8-3ed6dd9bf318\", \"type\": \"Group\", \"id\": 153193}\r\n",
      "{\"begin\": {\"year\": 1956}, \"end\": {\"year\": 1993}, \"name\": \"The Silhouettes\", \"area\": \"United States\", \"sort_name\": \"Silhouettes, The\", \"ended\": true, \"gid\": \"ca3f3ee1-c4a7-4bac-a16a-0b888a396c6b\", \"type\": \"Group\", \"id\": 101060, \"aliases\": [{\"name\": \"Silhouettes\", \"sort_name\": \"Silhouettes\"}, {\"name\": \"The Sihouettes\", \"sort_name\": \"The Sihouettes\"}]}\r\n",
      "{\"ended\": true, \"gid\": \"7b4a548e-a01a-49b7-82e7-b49efeb9732c\", \"sort_name\": \"Leavitt, Aric\", \"id\": 145773, \"name\": \"Aric Leavitt\"}\r\n",
      "{\"ended\": true, \"gid\": \"60aca66f-e91a-4cb5-9308-b6e293cd833e\", \"sort_name\": \"Fonograff\", \"id\": 1076328, \"name\": \"Fonograff\"}\r\n",
      "{\"name\": \"Al Street\", \"area\": \"United States\", \"gender\": \"Male\", \"sort_name\": \"Street, Al\", \"ended\": true, \"gid\": \"3e1bd546-d2a7-49cb-b38d-d70904a1d719\", \"type\": \"Person\", \"id\": 1172876}\r\n",
      "{\"ended\": true, \"gid\": \"df120895-f6c6-4a66-b9cf-73350f0beb61\", \"sort_name\": \"Love .45\", \"id\": 220155, \"name\": \"Love .45\"}\r\n"
     ]
    }
   ],
   "source": [
    "!head -n 10 ../data/artist.json"
   ]
  },
  {
   "cell_type": "code",
   "execution_count": 3,
   "metadata": {},
   "outputs": [
    {
     "name": "stdout",
     "output_type": "stream",
     "text": [
      "921337 ../data/artist.json\r\n"
     ]
    }
   ],
   "source": [
    "!wc -l ../data/artist.json"
   ]
  },
  {
   "cell_type": "code",
   "execution_count": 4,
   "metadata": {},
   "outputs": [
    {
     "name": "stdout",
     "output_type": "stream",
     "text": [
      "864789件 登録\n"
     ]
    }
   ],
   "source": [
    "import redis\n",
    "import json\n",
    "\n",
    "def generate_artist_info():\n",
    "    with open('../data/artist.json') as f:\n",
    "        for line in f:\n",
    "            yield json.loads(line)\n",
    "\n",
    "def knock_60():\n",
    "    pool = redis.ConnectionPool(host='localhost', port=6379, db=0)\n",
    "    r = redis.StrictRedis(connection_pool=pool)\n",
    "    r.flushdb()\n",
    "    for artist_info in generate_artist_info():\n",
    "        name = artist_info['name']\n",
    "        area = artist_info.get('area', '')\n",
    "        # key: name, value: areaのSet\n",
    "        r.sadd(name, area)\n",
    "    print(str(r.dbsize()) + '件 登録' )\n",
    "\n",
    "knock_60()"
   ]
  },
  {
   "cell_type": "markdown",
   "metadata": {},
   "source": [
    "## 61. KVSの検索\n",
    "60で構築したデータベースを用い，特定の（指定された）アーティストの活動場所を取得せよ．"
   ]
  },
  {
   "cell_type": "code",
   "execution_count": 5,
   "metadata": {},
   "outputs": [
    {
     "name": "stdout",
     "output_type": "stream",
     "text": [
      "Mogwai -> Germany / United Kingdom\n",
      "Latvijas radio sieviešu vokālais ansamblis -> Latvia\n",
      "임슬옹 -> South Korea\n",
      "Door -> \n"
     ]
    }
   ],
   "source": [
    "import redis\n",
    "\n",
    "def get_areas(artist_name):\n",
    "    pool = redis.ConnectionPool(host='localhost', port=6379, db=0)\n",
    "    r = redis.StrictRedis(connection_pool=pool)\n",
    "    return [area.decode('utf-8') for area in r.smembers(artist_name)]\n",
    "\n",
    "print('Mogwai -> '+ ' / '.join(get_areas('Mogwai')))\n",
    "print('Latvijas radio sieviešu vokālais ansamblis -> '+ ' / '.join(get_areas('Latvijas radio sieviešu vokālais ansamblis')))\n",
    "print('임슬옹 -> '+ ' / '.join(get_areas('임슬옹')))\n",
    "print('Door -> '+ ' / '.join(get_areas('Door')))"
   ]
  },
  {
   "cell_type": "markdown",
   "metadata": {},
   "source": [
    "## 62. KVS内の反復処理\n",
    "60で構築したデータベースを用い，活動場所が「Japan」となっているアーティスト数を求めよ．"
   ]
  },
  {
   "cell_type": "code",
   "execution_count": 6,
   "metadata": {},
   "outputs": [
    {
     "name": "stdout",
     "output_type": "stream",
     "text": [
      "22554\n"
     ]
    }
   ],
   "source": [
    "import redis\n",
    "\n",
    "def knock_62():\n",
    "    pool = redis.ConnectionPool(host='localhost', port=6379, db=0)\n",
    "    r = redis.StrictRedis(connection_pool=pool)\n",
    "    return [key for key in r.scan_iter(match='*', count=10000) if r.sismember(key, 'Japan')]\n",
    "\n",
    "print(len(knock_62()))"
   ]
  },
  {
   "cell_type": "markdown",
   "metadata": {},
   "source": [
    "## 63. オブジェクトを値に格納したKVS\n",
    "KVSを用い，アーティスト名（name）からタグと被タグ数（タグ付けされた回数）のリストを検索するためのデータベースを構築せよ．さらに，ここで構築したデータベースを用い，アーティスト名からタグと被タグ数を検索せよ．"
   ]
  },
  {
   "cell_type": "code",
   "execution_count": 7,
   "metadata": {},
   "outputs": [
    {
     "name": "stdout",
     "output_type": "stream",
     "text": [
      "{'britannique': 1,\n",
      " 'british': 2,\n",
      " 'classic pop and rock': 1,\n",
      " 'instrumental': 2,\n",
      " 'instrumental rock': 1,\n",
      " 'post-rock': 8,\n",
      " 'rock': 1,\n",
      " 'scottish': 3,\n",
      " 'uk': 2}\n"
     ]
    }
   ],
   "source": [
    "import redis\n",
    "import pickle\n",
    "from collections import defaultdict\n",
    "import pprint\n",
    "\n",
    "def build_db_knock_63():\n",
    "    pool = redis.ConnectionPool(host='localhost', port=6379, db=1)\n",
    "    r = redis.StrictRedis(connection_pool=pool)\n",
    "    r.flushdb()\n",
    "    for artist_info in generate_artist_info():\n",
    "        key = 'id:' + str(artist_info['id']) + ':name:' + artist_info['name']\n",
    "        r.set(key, pickle.dumps(artist_info))\n",
    "\n",
    "def get_tags(name):\n",
    "    pool = redis.ConnectionPool(host='localhost', port=6379, db=1)\n",
    "    r = redis.StrictRedis(connection_pool=pool)\n",
    "    search_key_pattern = 'id:*:name:' + name\n",
    "    all_tags = defaultdict(int)\n",
    "    for hit_key in r.keys(search_key_pattern):\n",
    "        artist_info = pickle.loads(r.get(hit_key))\n",
    "        tags = artist_info.get('tags', [])\n",
    "        for tag in tags:\n",
    "            all_tags[tag['value']] += tag['count']\n",
    "    return dict(all_tags)\n",
    "\n",
    "pprint.pprint(get_tags('Mogwai'))"
   ]
  },
  {
   "cell_type": "markdown",
   "metadata": {},
   "source": [
    "## 64. MongoDBの構築\n",
    "アーティスト情報（artist.json.gz）をデータベースに登録せよ．さらに，次のフィールドでインデックスを作成せよ: name, aliases.name, tags.value, rating.value"
   ]
  },
  {
   "cell_type": "code",
   "execution_count": 8,
   "metadata": {},
   "outputs": [],
   "source": [
    "# 下記を参考に MongoDB をインストール\n",
    "# https://docs.mongodb.com/manual/tutorial/install-mongodb-on-ubuntu/\n",
    "\n",
    "# PyMongo のインストール\n",
    "# pip install pymongo "
   ]
  },
  {
   "cell_type": "code",
   "execution_count": 11,
   "metadata": {},
   "outputs": [
    {
     "name": "stdout",
     "output_type": "stream",
     "text": [
      "921337件 登録\n"
     ]
    }
   ],
   "source": [
    "import pymongo\n",
    "from itertools import islice\n",
    "\n",
    "def build_db_knock_64():\n",
    "    client = pymongo.MongoClient('mongodb://localhost:27017/')\n",
    "    db_name = '100-knock'\n",
    "    client.drop_database(db_name)\n",
    "    db = client[db_name]\n",
    "    col = db['artists']\n",
    "    col.create_index([('name', pymongo.ASCENDING)])  \n",
    "    col.create_index([('aliases.name', pymongo.ASCENDING)])  \n",
    "    col.create_index([('tags.value', pymongo.ASCENDING)])\n",
    "    col.create_index([('rating.value', pymongo.ASCENDING)])\n",
    "    index = 0\n",
    "    while True:\n",
    "        chunk = tuple(islice(generate_artist_info(), index, index + 300000))\n",
    "        if not chunk:\n",
    "            break\n",
    "        index += len(chunk)\n",
    "        col.insert_many(chunk)\n",
    "    print(str(col.count_documents({})) + '件 登録')\n",
    "                \n",
    "build_db_knock_64()"
   ]
  },
  {
   "cell_type": "markdown",
   "metadata": {},
   "source": [
    "## 65. MongoDBの検索\n",
    "MongoDBのインタラクティブシェルを用いて，\"Queen\"というアーティストに関する情報を取得せよ．さらに，これと同様の処理を行うプログラムを実装せよ．"
   ]
  },
  {
   "cell_type": "markdown",
   "metadata": {},
   "source": [
    "インタラクティブシェル\n",
    "```\n",
    "> mongo\n",
    "> use 100-knock\n",
    "> db.artists.find( {'name':'Queen'} )\n",
    "\n",
    "{ \"_id\" : ObjectId(\"5bc494d938152d036d43a229\"), \"name\" : \"Queen\", \"area\" : \"Japan\", \"gender\" : \"Female\", \"tags\" : [ { \"count\" : 1, \"value\" : \"kamen rider w\" }, { \"count\" : 1, \"value\" : \"related-akb48\" } ], \"sort_name\" : \"Queen\", \"ended\" : true, \"gid\" : \"420ca290-76c5-41af-999e-564d7c71f1a7\", \"type\" : \"Character\", \"id\" : 701492, \"aliases\" : [ { \"name\" : \"Queen\", \"sort_name\" : \"Queen\" } ] }\n",
    "\n",
    "{ \"_id\" : ObjectId(\"5bc494da38152d036d4468d5\"), \"rating\" : { \"count\" : 24, \"value\" : 92 }, \"begin\" : { \"date\" : 27, \"month\" : 6, \"year\" : 1970 }, \"name\" : \"Queen\", \"area\" : \"United Kingdom\", \"tags\" : [ { \"count\" : 2, \"value\" : \"hard rock\" }, { \"count\" : 1, \"value\" : \"70s\" }, { \"count\" : 1, \"value\" : \"queen family\" }, { \"count\" : 1, \"value\" : \"90s\" }, { \"count\" : 1, \"value\" : \"80s\" }, { \"count\" : 1, \"value\" : \"glam rock\" }, { \"count\" : 4, \"value\" : \"british\" }, { \"count\" : 1, \"value\" : \"english\" }, { \"count\" : 2, \"value\" : \"uk\" }, { \"count\" : 1, \"value\" : \"pop/rock\" }, { \"count\" : 1, \"value\" : \"pop-rock\" }, { \"count\" : 1, \"value\" : \"britannique\" }, { \"count\" : 1, \"value\" : \"classic pop and rock\" }, { \"count\" : 1, \"value\" : \"queen\" }, { \"count\" : 1, \"value\" : \"united kingdom\" }, { \"count\" : 1, \"value\" : \"langham 1 studio bbc\" }, { \"count\" : 1, \"value\" : \"kind of magic\" }, { \"count\" : 1, \"value\" : \"band\" }, { \"count\" : 6, \"value\" : \"rock\" }, { \"count\" : 1, \"value\" : \"platinum\" } ], \"sort_name\" : \"Queen\", \"ended\" : true, \"gid\" : \"0383dadf-2a4e-4d10-a46a-e9e041da8eb3\", \"type\" : \"Group\", \"id\" : 192, \"aliases\" : [ { \"name\" : \"女王\", \"sort_name\" : \"女王\" } ] }\n",
    "\n",
    "{ \"_id\" : ObjectId(\"5bc494db38152d036d46232d\"), \"ended\" : true, \"gid\" : \"5eecaf18-02ec-47af-a4f2-7831db373419\", \"sort_name\" : \"Queen\", \"id\" : 992994, \"name\" : \"Queen\" }\n",
    "```"
   ]
  },
  {
   "cell_type": "code",
   "execution_count": 12,
   "metadata": {},
   "outputs": [
    {
     "name": "stdout",
     "output_type": "stream",
     "text": [
      "{'_id': ObjectId('5bce6c4c38152d0c2120129b'),\n",
      " 'aliases': [{'name': 'Queen', 'sort_name': 'Queen'}],\n",
      " 'area': 'Japan',\n",
      " 'ended': True,\n",
      " 'gender': 'Female',\n",
      " 'gid': '420ca290-76c5-41af-999e-564d7c71f1a7',\n",
      " 'id': 701492,\n",
      " 'name': 'Queen',\n",
      " 'sort_name': 'Queen',\n",
      " 'tags': [{'count': 1, 'value': 'kamen rider w'},\n",
      "          {'count': 1, 'value': 'related-akb48'}],\n",
      " 'type': 'Character'}\n",
      "{'_id': ObjectId('5bce6c4d38152d0c2120d947'),\n",
      " 'aliases': [{'name': '女王', 'sort_name': '女王'}],\n",
      " 'area': 'United Kingdom',\n",
      " 'begin': {'date': 27, 'month': 6, 'year': 1970},\n",
      " 'ended': True,\n",
      " 'gid': '0383dadf-2a4e-4d10-a46a-e9e041da8eb3',\n",
      " 'id': 192,\n",
      " 'name': 'Queen',\n",
      " 'rating': {'count': 24, 'value': 92},\n",
      " 'sort_name': 'Queen',\n",
      " 'tags': [{'count': 2, 'value': 'hard rock'},\n",
      "          {'count': 1, 'value': '70s'},\n",
      "          {'count': 1, 'value': 'queen family'},\n",
      "          {'count': 1, 'value': '90s'},\n",
      "          {'count': 1, 'value': '80s'},\n",
      "          {'count': 1, 'value': 'glam rock'},\n",
      "          {'count': 4, 'value': 'british'},\n",
      "          {'count': 1, 'value': 'english'},\n",
      "          {'count': 2, 'value': 'uk'},\n",
      "          {'count': 1, 'value': 'pop/rock'},\n",
      "          {'count': 1, 'value': 'pop-rock'},\n",
      "          {'count': 1, 'value': 'britannique'},\n",
      "          {'count': 1, 'value': 'classic pop and rock'},\n",
      "          {'count': 1, 'value': 'queen'},\n",
      "          {'count': 1, 'value': 'united kingdom'},\n",
      "          {'count': 1, 'value': 'langham 1 studio bbc'},\n",
      "          {'count': 1, 'value': 'kind of magic'},\n",
      "          {'count': 1, 'value': 'band'},\n",
      "          {'count': 6, 'value': 'rock'},\n",
      "          {'count': 1, 'value': 'platinum'}],\n",
      " 'type': 'Group'}\n",
      "{'_id': ObjectId('5bce6c4e38152d0c2122939f'),\n",
      " 'ended': True,\n",
      " 'gid': '5eecaf18-02ec-47af-a4f2-7831db373419',\n",
      " 'id': 992994,\n",
      " 'name': 'Queen',\n",
      " 'sort_name': 'Queen'}\n"
     ]
    }
   ],
   "source": [
    "from pymongo import MongoClient\n",
    "import pprint\n",
    "\n",
    "def knock_65(name):\n",
    "    client = pymongo.MongoClient('mongodb://localhost:27017/')\n",
    "    db_name = '100-knock'\n",
    "    db = client[db_name]\n",
    "    col = db['artists']\n",
    "    for artist_info in col.find({'name': name}):\n",
    "        pprint.pprint(artist_info)\n",
    "\n",
    "knock_65('Queen')"
   ]
  },
  {
   "cell_type": "markdown",
   "metadata": {},
   "source": [
    "## 66. 検索件数の取得\n",
    "MongoDBのインタラクティブシェルを用いて，活動場所が「Japan」となっているアーティスト数を求めよ．"
   ]
  },
  {
   "cell_type": "markdown",
   "metadata": {},
   "source": [
    "インタラクティブシェル\n",
    "```\n",
    "> mongo\n",
    "> use 100-knock\n",
    "> db.artists.distinct( 'name', {'area':'Japan'} ).length\n",
    "\n",
    "22554\n",
    "```"
   ]
  },
  {
   "cell_type": "markdown",
   "metadata": {},
   "source": [
    "## 67. 複数のドキュメントの取得\n",
    "特定の（指定した）別名を持つアーティストを検索せよ．"
   ]
  },
  {
   "cell_type": "code",
   "execution_count": 13,
   "metadata": {},
   "outputs": [
    {
     "name": "stdout",
     "output_type": "stream",
     "text": [
      "{'_id': ObjectId('5bce6c4d38152d0c2120fe5a'),\n",
      " 'aliases': [{'name': 'OASIS', 'sort_name': 'OASIS'},\n",
      "             {'name': 'オアシス', 'sort_name': 'オアシス'}],\n",
      " 'area': 'United Kingdom',\n",
      " 'begin': {'year': 1991},\n",
      " 'end': {'date': 28, 'month': 8, 'year': 2009},\n",
      " 'ended': True,\n",
      " 'gid': '39ab1aed-75e0-4140-bd47-540276886b60',\n",
      " 'id': 20660,\n",
      " 'name': 'Oasis',\n",
      " 'rating': {'count': 13, 'value': 86},\n",
      " 'sort_name': 'Oasis',\n",
      " 'tags': [{'count': 1, 'value': 'rock'},\n",
      "          {'count': 3, 'value': 'britpop'},\n",
      "          {'count': 4, 'value': 'british'},\n",
      "          {'count': 1, 'value': 'uk'},\n",
      "          {'count': 1, 'value': 'britannique'},\n",
      "          {'count': 1, 'value': 'rock and indie'},\n",
      "          {'count': 1, 'value': 'england'},\n",
      "          {'count': 1, 'value': 'manchester'}],\n",
      " 'type': 'Group'}\n"
     ]
    }
   ],
   "source": [
    "def knock_67(alias):\n",
    "    client = pymongo.MongoClient('mongodb://localhost:27017/')\n",
    "    db_name = '100-knock'\n",
    "    db = client[db_name]\n",
    "    col = db['artists']\n",
    "    for artist_info in col.find({'aliases.name': alias}):\n",
    "        pprint.pprint(artist_info)\n",
    "        \n",
    "knock_67('OASIS')"
   ]
  },
  {
   "cell_type": "markdown",
   "metadata": {},
   "source": [
    "## 68. ソート\n",
    "\"dance\"というタグを付与されたアーティストの中でレーティングの投票数が多いアーティスト・トップ10を求めよ．"
   ]
  },
  {
   "cell_type": "code",
   "execution_count": 14,
   "metadata": {},
   "outputs": [
    {
     "name": "stdout",
     "output_type": "stream",
     "text": [
      "Madonna\t26\n",
      "Björk\t23\n",
      "The Prodigy\t23\n",
      "Rihanna\t15\n",
      "Britney Spears\t13\n",
      "Maroon 5\t11\n",
      "Adam Lambert\t7\n",
      "Fatboy Slim\t7\n",
      "Basement Jaxx\t6\n",
      "Cornershop\t5\n"
     ]
    }
   ],
   "source": [
    "def knock_68():\n",
    "    client = pymongo.MongoClient('mongodb://localhost:27017/')\n",
    "    db_name = '100-knock'\n",
    "    db = client[db_name]\n",
    "    col = db['artists']\n",
    "    for artist_info in col.find({'tags.value': 'dance', 'rating.count': {'$exists': True}}).sort('rating.count', pymongo.DESCENDING).limit(10):\n",
    "        print(artist_info['name'] + '\\t' + str(artist_info['rating']['count']))\n",
    "        \n",
    "knock_68()"
   ]
  },
  {
   "cell_type": "markdown",
   "metadata": {},
   "source": [
    "## 69. Webアプリケーションの作成\n",
    "ユーザから入力された検索条件に合致するアーティストの情報を表示するWebアプリケーションを作成せよ．アーティスト名，アーティストの別名，タグ等で検索条件を指定し，アーティスト情報のリストをレーティングの高い順などで整列して表示せよ．"
   ]
  },
  {
   "cell_type": "code",
   "execution_count": null,
   "metadata": {},
   "outputs": [],
   "source": []
  }
 ],
 "metadata": {
  "kernelspec": {
   "display_name": "Python 3",
   "language": "python",
   "name": "python3"
  },
  "language_info": {
   "codemirror_mode": {
    "name": "ipython",
    "version": 3
   },
   "file_extension": ".py",
   "mimetype": "text/x-python",
   "name": "python",
   "nbconvert_exporter": "python",
   "pygments_lexer": "ipython3",
   "version": "3.6.2"
  }
 },
 "nbformat": 4,
 "nbformat_minor": 2
}
