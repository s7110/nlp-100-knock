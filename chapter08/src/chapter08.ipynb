{
 "cells": [
  {
   "cell_type": "markdown",
   "metadata": {},
   "source": [
    "# 第8章: 機械学習\n",
    "本章では，Bo Pang氏とLillian Lee氏が公開しているMovie Review Dataのsentence polarity dataset v1.0を用い，文を肯定的（ポジティブ）もしくは否定的（ネガティブ）に分類するタスク（極性分析）に取り組む．"
   ]
  },
  {
   "cell_type": "markdown",
   "metadata": {},
   "source": [
    "## 70. データの入手・整形\n",
    "文に関する極性分析の正解データを用い，以下の要領で正解データ（sentiment.txt）を作成せよ．\n",
    "\n",
    "1. rt-polarity.posの各行の先頭に\"+1 \"という文字列を追加する（極性ラベル\"+1\"とスペースに続けて肯定的な文の内容が続く）\n",
    "1. rt-polarity.negの各行の先頭に\"-1 \"という文字列を追加する（極性ラベル\"-1\"とスペースに続けて否定的な文の内容が続く）\n",
    "1. 上述1と2の内容を結合（concatenate）し，行をランダムに並び替える\n",
    "\n",
    "sentiment.txtを作成したら，正例（肯定的な文）の数と負例（否定的な文）の数を確認せよ．"
   ]
  },
  {
   "cell_type": "code",
   "execution_count": 1,
   "metadata": {
    "scrolled": true
   },
   "outputs": [
    {
     "name": "stdout",
     "output_type": "stream",
     "text": [
      "正例: 5331件\n",
      "負例: 5331件\n"
     ]
    }
   ],
   "source": [
    "import codecs\n",
    "import pandas as pd\n",
    "import numpy as np\n",
    "\n",
    "def knock_70():\n",
    "    with codecs.open('../data/rt-polaritydata/rt-polarity.pos', 'r', 'cp1252') as f_pos:\n",
    "        df_pos = pd.concat([pd.DataFrame([['+1', sentence.rstrip('\\n')]]) for sentence in f_pos], ignore_index=True)        \n",
    "    with codecs.open('../data/rt-polaritydata/rt-polarity.neg', 'r', 'cp1252') as f_neg:\n",
    "        df_neg = pd.concat([pd.DataFrame([['-1', sentence.rstrip('\\n')]]) for sentence in f_neg], ignore_index=True)\n",
    "    df = pd.concat([df_pos, df_neg], ignore_index=True)\n",
    "    \n",
    "    np.random.seed(1)\n",
    "    df.columns = ['Sentiment', 'Review']\n",
    "    df = df.reindex(np.random.permutation(df.index))\n",
    "    df.to_csv('../work/sentiment.txt', sep=' ', index=False)\n",
    "\n",
    "    print('正例: ' + str((df['Sentiment'] == '+1').sum()) + '件') \n",
    "    print('負例: ' + str((df['Sentiment'] == '-1').sum()) + '件')\n",
    "\n",
    "knock_70()"
   ]
  },
  {
   "cell_type": "code",
   "execution_count": 2,
   "metadata": {},
   "outputs": [
    {
     "name": "stdout",
     "output_type": "stream",
     "text": [
      "Sentiment Review\r\n",
      "-1 \"to portray modern women the way director davis has done is just unthinkable . \"\r\n",
      "-1 \"kenneth branagh's energetic sweet-and-sour performance as a curmudgeonly british playwright grounds this overstuffed , erratic dramedy in which he and his improbably forbearing wife contend with craziness and child-rearing in los angeles . \"\r\n",
      "+1 \" . . . with \"\" the bourne identity \"\" we return to the more traditional action genre . \"\r\n",
      "+1 \"you can watch , giggle and get an adrenaline boost without feeling like you've completely lowered your entertainment standards . \"\r\n",
      "+1 \"fun , flip and terribly hip bit of cinematic entertainment . \"\r\n",
      "+1 \"fisher has bared his soul and confronted his own shortcomings here in a way . . . that feels very human and very true to life . \"\r\n",
      "+1 \"while the plot follows a predictable connect-the-dots course . . . director john schultz colors the picture in some evocative shades . \"\r\n",
      "-1 \"the impact of the armenian genocide is diluted by too much stage business in the modern day . \"\r\n",
      "+1 \"thanks to haynes' absolute control of the film's mood , and buoyed by three terrific performances , far from heaven actually pulls off this stylistic juggling act . \"\r\n",
      "+1 \"we know the plot's a little crazy , but it held my interest from start to finish . \"\r\n",
      "-1 \"half of it is composed of snappy patter and pseudo-sophisticated cultural observations , while the remainder . . . would be more at home on a daytime television serial . \"\r\n",
      "+1 \"though it lacks the utter authority of a genre gem , there's a certain robustness to this engaging mix of love and bloodletting . \"\r\n",
      "-1 \"some writer dude , i think his name was , uh , michael zaidan , was supposed to have like written the screenplay or something , but , dude , the only thing that i ever saw that was written down were the zeroes on my paycheck . \"\r\n",
      "+1 \"the film is small in scope , yet perfectly formed . \"\r\n",
      "-1 \"the plot plummets into a comedy graveyard before janice comes racing to the rescue in the final reel . \"\r\n",
      "-1 \"it's the movie equivalent of a sweaty old guy in a rain coat shopping for cheap porn . \"\r\n",
      "+1 \"it is a likable story , told with competence . \"\r\n",
      "-1 \"in the second half of the film , frei's control loosens in direct proportion to the amount of screen time he gives nachtwey for self-analysis . \"\r\n",
      "-1 \"[morgan] , judd and franklin can't save the script , rooted in a novel by joseph finder , from some opportunism . \"\r\n"
     ]
    }
   ],
   "source": [
    "!head -n 20 ../work/sentiment.txt"
   ]
  },
  {
   "cell_type": "markdown",
   "metadata": {},
   "source": [
    "## 71. ストップワード\n",
    "英語のストップワードのリスト（ストップリスト）を適当に作成せよ．さらに，引数に与えられた単語（文字列）がストップリストに含まれている場合は真，それ以外は偽を返す関数を実装せよ．さらに，その関数に対するテストを記述せよ．"
   ]
  },
  {
   "cell_type": "code",
   "execution_count": 3,
   "metadata": {},
   "outputs": [],
   "source": [
    "def is_stop_word(word):\n",
    "    if not word:\n",
    "        return True\n",
    "    if len(word.rstrip()) <= 1:\n",
    "        return True\n",
    "    \n",
    "    STOP_WORD = set(\"\"\"\n",
    "    , . a an the at to on of for in by with above under\n",
    "    this that i you it he she they am are is was were \n",
    "    and but though although then as \n",
    "    \" ' - – ( ) *\n",
    "    \"\"\".lower().split())\n",
    "    return word.lower() in STOP_WORD\n",
    "\n",
    "assert is_stop_word('a')\n",
    "assert is_stop_word('the')\n",
    "assert is_stop_word('i')\n",
    "assert is_stop_word('I')\n",
    "assert is_stop_word('YOU')\n",
    "assert is_stop_word('\"')\n",
    "assert is_stop_word('*')\n",
    "assert is_stop_word('')\n",
    "assert is_stop_word('　')\n",
    "assert is_stop_word(None)\n",
    "assert is_stop_word('e')\n",
    "\n",
    "assert not is_stop_word('good')\n",
    "assert not is_stop_word('bad')\n"
   ]
  },
  {
   "cell_type": "markdown",
   "metadata": {},
   "source": [
    "## 72. 素性抽出\n",
    "極性分析に有用そうな素性を各自で設計し，学習データから素性を抽出せよ．素性としては，レビューからストップワードを除去し，各単語をステミング処理したものが最低限のベースラインとなるであろう．"
   ]
  },
  {
   "cell_type": "code",
   "execution_count": 13,
   "metadata": {},
   "outputs": [
    {
     "name": "stdout",
     "output_type": "stream",
     "text": [
      "元文\n",
      "['to portray modern women the way director davis has done is just unthinkable . ', \"kenneth branagh's energetic sweet-and-sour performance as a curmudgeonly british playwright grounds this overstuffed , erratic dramedy in which he and his improbably forbearing wife contend with craziness and child-rearing in los angeles . \"]\n",
      "\n",
      "マッピング\n",
      "['angel', 'branagh', 'branagh energet', 'british', 'british playwright', 'child-rear', 'child-rear los', 'contend', 'contend crazi', 'crazi', 'crazi child-rear', 'curmudgeon', 'curmudgeon british', 'davi', 'davi has', 'director', 'director davi', 'done', 'done just', 'dramedi', 'dramedi which', 'energet', 'energet sweet-and-sour', 'errat', 'errat dramedi', 'forbear', 'forbear wife', 'ground', 'ground overstuf', 'has', 'has done', 'his', 'his improb', 'improb', 'improb forbear', 'just', 'just unthink', 'kenneth', 'kenneth branagh', 'los', 'los angel', 'modern', 'modern women', 'overstuf', 'overstuf errat', 'perform', 'perform curmudgeon', 'playwright', 'playwright ground', 'portray', 'portray modern', 'sweet-and-sour', 'sweet-and-sour perform', 'unthink', 'way', 'way director', 'which', 'which his', 'wife', 'wife contend', 'women', 'women way']\n",
      "\n",
      "素性\n",
      "[[ 0.          0.          0.          0.          0.          0.          0.\n",
      "   0.          0.          0.          0.          0.          0.\n",
      "   0.22941573  0.22941573  0.22941573  0.22941573  0.22941573  0.22941573\n",
      "   0.          0.          0.          0.          0.          0.          0.\n",
      "   0.          0.          0.          0.22941573  0.22941573  0.          0.\n",
      "   0.          0.          0.22941573  0.22941573  0.          0.          0.\n",
      "   0.          0.22941573  0.22941573  0.          0.          0.          0.\n",
      "   0.          0.          0.22941573  0.22941573  0.          0.\n",
      "   0.22941573  0.22941573  0.22941573  0.          0.          0.          0.\n",
      "   0.22941573  0.22941573]\n",
      " [ 0.15249857  0.15249857  0.15249857  0.15249857  0.15249857  0.15249857\n",
      "   0.15249857  0.15249857  0.15249857  0.15249857  0.15249857  0.15249857\n",
      "   0.15249857  0.          0.          0.          0.          0.          0.\n",
      "   0.15249857  0.15249857  0.15249857  0.15249857  0.15249857  0.15249857\n",
      "   0.15249857  0.15249857  0.15249857  0.15249857  0.          0.\n",
      "   0.15249857  0.15249857  0.15249857  0.15249857  0.          0.\n",
      "   0.15249857  0.15249857  0.15249857  0.15249857  0.          0.\n",
      "   0.15249857  0.15249857  0.15249857  0.15249857  0.15249857  0.15249857\n",
      "   0.          0.          0.15249857  0.15249857  0.          0.          0.\n",
      "   0.15249857  0.15249857  0.15249857  0.15249857  0.          0.        ]]\n"
     ]
    }
   ],
   "source": [
    "import pandas as pd\n",
    "from stemming.porter2 import stem\n",
    "from sklearn.feature_extraction.text import TfidfVectorizer\n",
    "from sklearn.feature_extraction.text import CountVectorizer\n",
    "\n",
    "def stem_tokenizer(sentence):\n",
    "    return [stem(word) for word in sentence.split(' ') if not is_stop_word(word)]\n",
    "\n",
    "def extract_feature(text, min_df=1):\n",
    "    vectorizer = TfidfVectorizer(tokenizer=stem_tokenizer, ngram_range=(1,2), min_df=min_df)\n",
    "    vectorizer = vectorizer.fit(text)\n",
    "    vector = vectorizer.transform(text)\n",
    "    return vectorizer, vector.toarray()\n",
    "\n",
    "def knock_72():\n",
    "    df = pd.read_csv('../work/sentiment.txt', sep=' ')\n",
    "    text = df['Review'].tolist()[:2]\n",
    "    vectorizer, feature = extract_feature(text)\n",
    "    print('元文')\n",
    "    print(text)\n",
    "    print('\\nマッピング')\n",
    "    print(vectorizer.get_feature_names())\n",
    "    print('\\n素性')\n",
    "    print(feature)\n",
    "\n",
    "knock_72()"
   ]
  },
  {
   "cell_type": "markdown",
   "metadata": {},
   "source": [
    "## 73. 学習\n",
    "72で抽出した素性を用いて，ロジスティック回帰モデルを学習せよ．"
   ]
  },
  {
   "cell_type": "code",
   "execution_count": 5,
   "metadata": {},
   "outputs": [
    {
     "name": "stdout",
     "output_type": "stream",
     "text": [
      "Accuracy(train): 0.881280986199\n",
      "Accuracy(test): 0.774304470147\n"
     ]
    }
   ],
   "source": [
    "import os\n",
    "import pandas as pd\n",
    "from sklearn.model_selection import train_test_split\n",
    "from sklearn.linear_model import LogisticRegression\n",
    "from sklearn.externals import joblib\n",
    "\n",
    "def learn_by_logistic_regression(model_output_directory):\n",
    "    df = pd.read_csv('../work/sentiment.txt', sep=' ')\n",
    "    X = df['Review'].tolist()\n",
    "    y = df['Sentiment'].tolist()\n",
    "    vectorizer, feature = extract_feature(X, min_df=5)\n",
    "    X_train, X_test, y_train, y_test = train_test_split(feature, y, test_size=0.3, shuffle=False)\n",
    "    \n",
    "    lr = LogisticRegression(solver='liblinear', random_state=0)\n",
    "    model = lr.fit(X_train, y_train)\n",
    "    print('Accuracy(train): ' + str(lr.score(X_train, y_train)))\n",
    "    print('Accuracy(test): ' + str(lr.score(X_test, y_test)))\n",
    "    \n",
    "    if not os.path.exists(model_output_directory):\n",
    "        os.makedirs(model_output_directory)\n",
    "    joblib.dump(model, model_output_directory + '/model.pkl')\n",
    "    joblib.dump(vectorizer, model_output_directory + '/vectorizer.pkl')\n",
    "\n",
    "learn_by_logistic_regression('../work/knock_73')"
   ]
  },
  {
   "cell_type": "markdown",
   "metadata": {},
   "source": [
    "## 74. 予測\n",
    "73で学習したロジスティック回帰モデルを用い，与えられた文の極性ラベル（正例なら\"+1\"，負例なら\"-1\"）と，その予測確率を計算するプログラムを実装せよ．"
   ]
  },
  {
   "cell_type": "code",
   "execution_count": 6,
   "metadata": {},
   "outputs": [
    {
     "name": "stdout",
     "output_type": "stream",
     "text": [
      "This movie is very funny -> +1 (0.737271911721)\n",
      "A story of this movie is excellent -> +1 (0.594921654769)\n",
      "This movie is too bad -> -1 (0.950025256101)\n",
      "This movie is terrible -> -1 (0.769327015675)\n"
     ]
    }
   ],
   "source": [
    "import pandas as pd\n",
    "from sklearn.linear_model import LogisticRegression\n",
    "from sklearn.externals import joblib\n",
    "\n",
    "def predict_by_logistic_regression(model_directory, text_array):\n",
    "    lr = joblib.load(model_directory + '/model.pkl')\n",
    "    vectorizer = joblib.load(model_directory + '/vectorizer.pkl')\n",
    "    feature = vectorizer.transform(text_array).toarray()\n",
    "    predicted_labels = lr.predict(feature)\n",
    "    predicted_probabilities = lr.predict_proba(feature)\n",
    "    label_probability_pair = []\n",
    "    for i, predicted_label in enumerate(predicted_labels):\n",
    "        if predicted_label == 1:\n",
    "            label_probability_pair.append(('+1', predicted_probabilities[i][1]))\n",
    "        else:\n",
    "            label_probability_pair.append(('-1', predicted_probabilities[i][0]))\n",
    "    return label_probability_pair\n",
    "\n",
    "reviews = ['This movie is very funny', 'A story of this movie is excellent', 'This movie is too bad', 'This movie is terrible']\n",
    "label_probability_pair = predict_by_logistic_regression('../work/knock_73', reviews)\n",
    "for i, (label, probability) in enumerate(label_probability_pair):\n",
    "    print(reviews[i] + ' -> ' + label +  ' (' + str(probability) + ')')"
   ]
  },
  {
   "cell_type": "markdown",
   "metadata": {},
   "source": [
    "## 75. 素性の重み\n",
    "73で学習したロジスティック回帰モデルの中で，重みの高い素性トップ10と，重みの低い素性トップ10を確認せよ．"
   ]
  },
  {
   "cell_type": "code",
   "execution_count": 7,
   "metadata": {},
   "outputs": [
    {
     "name": "stdout",
     "output_type": "stream",
     "text": [
      "重みの高い素性トップ10\n",
      "[(2.8589637435772173, 'beauti'),\n",
      " (2.3956275116777275, 'funni'),\n",
      " (2.1508983631746128, 'still'),\n",
      " (2.10545333197128, 'enjoy'),\n",
      " (2.0909607897078031, 'perform'),\n",
      " (2.0803539894407517, 'flaw'),\n",
      " (2.075159838858827, 'delight'),\n",
      " (2.0336450108457118, 'power'),\n",
      " (2.0316332176758998, 'fun'),\n",
      " (1.9709466052059059, 'wonder')]\n",
      "\n",
      "重みの低い素性トップ10\n",
      "[(-3.6672470168602902, 'too'),\n",
      " (-3.1052604875431915, 'bad'),\n",
      " (-3.0348569442901798, 'dull'),\n",
      " (-3.0066066797164042, 'bore'),\n",
      " (-2.5026942197892539, 'lack'),\n",
      " (-2.3964732569463347, 'no'),\n",
      " (-2.1120580536399562, 'onli'),\n",
      " (-2.0819031773426446, 'wast'),\n",
      " (-2.0143804073628599, 'fail'),\n",
      " (-1.9862539662836505, 'worst')]\n"
     ]
    }
   ],
   "source": [
    "import pprint\n",
    "\n",
    "def knock_75():\n",
    "    lr = joblib.load('../work/knock_73/model.pkl')\n",
    "    vectorizer = joblib.load('../work/knock_73/vectorizer.pkl')\n",
    "    \n",
    "    feature_names = vectorizer.get_feature_names()\n",
    "    weights = lr.coef_[0]\n",
    "    wieght_words_pair = list(zip(weights, feature_names))\n",
    "    sorted_weight_words_pair = sorted(wieght_words_pair, key=lambda x:x[0], reverse=True)\n",
    "\n",
    "    print('重みの高い素性トップ10')\n",
    "    pprint.pprint(sorted_weight_words_pair[:10])\n",
    "    print('\\n重みの低い素性トップ10')\n",
    "    pprint.pprint(sorted_weight_words_pair[:-11:-1])\n",
    "    \n",
    "knock_75()"
   ]
  },
  {
   "cell_type": "markdown",
   "metadata": {},
   "source": [
    "## 76. ラベル付け\n",
    "学習データに対してロジスティック回帰モデルを適用し，正解のラベル，予測されたラベル，予測確率をタブ区切り形式で出力せよ．"
   ]
  },
  {
   "cell_type": "code",
   "execution_count": 8,
   "metadata": {},
   "outputs": [],
   "source": [
    "import pandas as pd\n",
    "\n",
    "def knock_76():\n",
    "    df = pd.read_csv('../work/sentiment.txt', sep=' ')\n",
    "    X = df['Review'].tolist()\n",
    "    y = df['Sentiment'].tolist()\n",
    "    X_train, X_test, y_train, y_test = train_test_split(X, y, test_size=0.3, shuffle=False)\n",
    "    label_probability_pair = predict_by_logistic_regression('../work/knock_73', X_train)\n",
    "    df = pd.concat([pd.DataFrame(y_train), pd.DataFrame(label_probability_pair)], axis=1)\n",
    "    df.columns = ['answer', 'predicted', 'pred_prob']\n",
    "    df['predicted'] = df['predicted'].astype(np.int64)\n",
    "    df.to_csv('../work/knock_73/result_of_train.tsv', sep='\\t', index=False)\n",
    "    \n",
    "knock_76()"
   ]
  },
  {
   "cell_type": "code",
   "execution_count": 9,
   "metadata": {},
   "outputs": [
    {
     "name": "stdout",
     "output_type": "stream",
     "text": [
      "answer\tpredicted\tpred_prob\r\n",
      "-1\t1\t0.6405216335704899\r\n",
      "-1\t1\t0.5336469161529501\r\n",
      "1\t1\t0.684957023248036\r\n",
      "1\t-1\t0.5379757077047782\r\n",
      "1\t1\t0.6998070442209906\r\n",
      "1\t1\t0.7762966417126509\r\n",
      "1\t-1\t0.5032244068733721\r\n",
      "-1\t-1\t0.7804381116937051\r\n",
      "1\t1\t0.847528632471801\r\n",
      "1\t-1\t0.5457859067882957\r\n",
      "-1\t-1\t0.6683289208681973\r\n",
      "1\t1\t0.6103842420868052\r\n",
      "-1\t-1\t0.9169552987061634\r\n",
      "1\t1\t0.868322305211289\r\n",
      "-1\t-1\t0.6917457059983712\r\n",
      "-1\t-1\t0.7182561700192462\r\n",
      "1\t1\t0.6450939087689525\r\n",
      "-1\t-1\t0.523991666110773\r\n",
      "-1\t-1\t0.7461548301598886\r\n"
     ]
    }
   ],
   "source": [
    "!head -n 20 ../work/knock_73/result_of_train.tsv"
   ]
  },
  {
   "cell_type": "markdown",
   "metadata": {},
   "source": [
    "## 77. 正解率の計測\n",
    "76の出力を受け取り，予測の正解率，正例に関する適合率，再現率，F1スコアを求めるプログラムを作成せよ．"
   ]
  },
  {
   "cell_type": "code",
   "execution_count": 10,
   "metadata": {},
   "outputs": [
    {
     "name": "stdout",
     "output_type": "stream",
     "text": [
      "precision:\t0.884605158203\n",
      "recall:\t0.880391637999\n",
      "f1:\t0.8824933687\n"
     ]
    }
   ],
   "source": [
    "from sklearn.metrics import precision_score, recall_score, f1_score\n",
    "\n",
    "def knock_77():\n",
    "    df = pd.read_csv('../work/knock_73/result_of_train.tsv', sep='\\t')\n",
    "    print('precision:\\t' + str(precision_score(df['answer'], df['predicted'])))\n",
    "    print('recall:\\t' + str(recall_score(df['answer'], df['predicted'])))\n",
    "    print('f1:\\t' + str(f1_score(df['answer'], df['predicted'])))\n",
    "\n",
    "knock_77()"
   ]
  },
  {
   "cell_type": "markdown",
   "metadata": {},
   "source": [
    "## 78. 5分割交差検定\n",
    "76-77の実験では，学習に用いた事例を評価にも用いたため，正当な評価とは言えない．すなわち，分類器が訓練事例を丸暗記する際の性能を評価しており，モデルの汎化性能を測定していない．そこで，5分割交差検定により，極性分類の正解率，適合率，再現率，F1スコアを求めよ．"
   ]
  },
  {
   "cell_type": "code",
   "execution_count": 11,
   "metadata": {},
   "outputs": [
    {
     "name": "stdout",
     "output_type": "stream",
     "text": [
      "GridSearch\n",
      "Best score:\t0.760016079325\n",
      "Best parameter:\t{'C': 1, 'solver': 'newton-cg'}\n",
      "\n",
      "5分割交差検定\n",
      "{'fit_time': array([ 5.02494168,  5.01517606,  5.04694104,  5.0105083 ,  5.08638406]),\n",
      " 'score_time': array([ 0.05747604,  0.05380106,  0.05505228,  0.05360866,  0.05328178]),\n",
      " 'test_a': array([ 0.79240862,  0.76829268,  0.75469043,  0.76454034,  0.77861163]),\n",
      " 'test_f': array([ 0.79133302,  0.76785714,  0.75434476,  0.76476101,  0.77609108]),\n",
      " 'test_p': array([ 0.79545455,  0.7693032 ,  0.75540922,  0.76404494,  0.78502879]),\n",
      " 'test_r': array([ 0.78725398,  0.76641651,  0.7532833 ,  0.76547842,  0.7673546 ]),\n",
      " 'train_a': array([ 0.87664165,  0.87596717,  0.87620164,  0.87713951,  0.87549824]),\n",
      " 'train_f': array([ 0.87635167,  0.87555869,  0.87541293,  0.87647336,  0.87502942]),\n",
      " 'train_p': array([ 0.87841659,  0.87845173,  0.88102588,  0.88125148,  0.87833688]),\n",
      " 'train_r': array([ 0.87429644,  0.87268464,  0.86987104,  0.87174678,  0.87174678])}\n",
      "\n",
      "Average of accuracy:\t0.7717087413466593\n",
      "Average of precision:\t0.7738481401518558\n",
      "Average of recall:\t0.767957363230182\n",
      "Average of f1:\t0.7708774037492988\n"
     ]
    }
   ],
   "source": [
    "import os\n",
    "from sklearn.model_selection import GridSearchCV\n",
    "from sklearn.model_selection import StratifiedKFold\n",
    "from sklearn.model_selection import cross_validate\n",
    "\n",
    "def knock_78():\n",
    "    params = {\n",
    "        'C': [0.1, 1, 10, 100],\n",
    "        'solver': ['newton-cg', 'liblinear']\n",
    "    }\n",
    "    \n",
    "    df = pd.read_csv('../work/sentiment.txt', sep=' ')\n",
    "    X = df['Review'].tolist()\n",
    "    y = df['Sentiment'].tolist()\n",
    "    vectorizer, feature = extract_feature(X, min_df=5)\n",
    "    X_train, X_test, y_train, y_test = train_test_split(feature, y, test_size=0.3, shuffle=False)\n",
    "\n",
    "    lr = LogisticRegression(random_state=0)\n",
    "    gridsearch_lr = GridSearchCV(lr, param_grid=params, n_jobs=-1, cv=3)\n",
    "    gridsearch_lr.fit(X_train, y_train)\n",
    "    print('GridSearch')\n",
    "    print('Best score:\\t' + str(gridsearch_lr.best_score_))\n",
    "    print('Best parameter:\\t' + str(gridsearch_lr.best_params_))\n",
    "    \n",
    "    scoring = {\n",
    "        'a': 'accuracy',\n",
    "        'p': 'precision',\n",
    "        'r': 'recall',\n",
    "        'f': 'f1'\n",
    "    }\n",
    "    best_estimator = gridsearch_lr.best_estimator_ \n",
    "    kfold = StratifiedKFold(n_splits=5, shuffle=False, random_state=0)\n",
    "    scores = cross_validate(best_estimator, feature, y, cv=kfold, scoring=scoring)\n",
    "    print('\\n5分割交差検定')\n",
    "    pprint.pprint(scores)\n",
    "    print('\\nAverage of accuracy:\\t{}'.format(np.mean(scores['test_a'])))\n",
    "    print('Average of precision:\\t{}'.format(np.mean(scores['test_p'])))\n",
    "    print('Average of recall:\\t{}'.format(np.mean(scores['test_r'])))\n",
    "    print('Average of f1:\\t{}'.format(np.mean(scores['test_f'])))\n",
    "    \n",
    "    model_output_directory = '../work/knock_78'\n",
    "    if not os.path.exists(model_output_directory):\n",
    "        os.makedirs(model_output_directory)\n",
    "    joblib.dump(best_estimator, model_output_directory + '/model.pkl')\n",
    "    joblib.dump(vectorizer, model_output_directory + '/vectorizer.pkl')\n",
    "\n",
    "knock_78()"
   ]
  },
  {
   "cell_type": "markdown",
   "metadata": {},
   "source": [
    "## 79. 適合率-再現率グラフの描画\n",
    "ロジスティック回帰モデルの分類の閾値を変化させることで，適合率-再現率グラフを描画せよ．"
   ]
  },
  {
   "cell_type": "code",
   "execution_count": 12,
   "metadata": {},
   "outputs": [
    {
     "data": {
      "image/png": "[encoded data removed]",
      "text/plain": [
       "<matplotlib.figure.Figure at 0x7f77c7207c50>"
      ]
     },
     "metadata": {},
     "output_type": "display_data"
    }
   ],
   "source": [
    "import pandas as pd\n",
    "from sklearn.metrics import precision_recall_curve\n",
    "import matplotlib.pyplot as plt\n",
    "\n",
    "def knock_79():\n",
    "    df = pd.read_csv('../work/sentiment.txt', sep=' ')\n",
    "    X = df['Review'].tolist()\n",
    "    y = df['Sentiment'].tolist()\n",
    "    X_train, X_test, y_train, y_test = train_test_split(X, y, test_size=0.3, shuffle=False)\n",
    "    \n",
    "    lr = joblib.load('../work/knock_78/model.pkl')\n",
    "    vectorizer = joblib.load('../work/knock_78/vectorizer.pkl')\n",
    "    feature = vectorizer.transform(X_test).toarray()\n",
    "    predicted_probabilities = lr.predict_proba(feature)\n",
    "    precision, recall, thresholds = precision_recall_curve(y_test, predicted_probabilities[:,1])\n",
    "    \n",
    "    plt.plot(recall, precision)\n",
    "    plt.xlabel('recall')\n",
    "    plt.ylabel('precision')\n",
    "    plt.xlim([0, 1])\n",
    "    plt.ylim([0, 1])\n",
    "    plt.show()\n",
    "    \n",
    "knock_79()"
   ]
  },
  {
   "cell_type": "code",
   "execution_count": null,
   "metadata": {},
   "outputs": [],
   "source": []
  }
 ],
 "metadata": {
  "kernelspec": {
   "display_name": "Python 3",
   "language": "python",
   "name": "python3"
  },
  "language_info": {
   "codemirror_mode": {
    "name": "ipython",
    "version": 3
   },
   "file_extension": ".py",
   "mimetype": "text/x-python",
   "name": "python",
   "nbconvert_exporter": "python",
   "pygments_lexer": "ipython3",
   "version": "3.6.2"
  }
 },
 "nbformat": 4,
 "nbformat_minor": 2
}
