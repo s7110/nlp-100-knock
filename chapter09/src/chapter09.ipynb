{
 "cells": [
  {
   "cell_type": "markdown",
   "metadata": {},
   "source": [
    "# 第9章: ベクトル空間法 (I)\n",
    "enwiki-20150112-400-r10-105752.txt.bz2は，2015年1月12日時点の英語のWikipedia記事のうち，約400語以上で構成される記事の中から，ランダムに1/10サンプリングした105,752記事のテキストをbzip2形式で圧縮したものである．このテキストをコーパスとして，単語の意味を表すベクトル（分散表現）を学習したい．第9章の前半では，コーパスから作成した単語文脈共起行列に主成分分析を適用し，単語ベクトルを学習する過程を，いくつかの処理に分けて実装する．第9章の後半では，学習で得られた単語ベクトル（300次元）を用い，単語の類似度計算やアナロジー（類推）を行う．\n",
    "\n",
    "なお，問題83を素直に実装すると，大量（約7GB）の主記憶が必要になる． メモリが不足する場合は，処理を工夫するか，1/100サンプリングのコーパスenwiki-20150112-400-r100-10576.txt.bz2を用いよ．"
   ]
  },
  {
   "cell_type": "markdown",
   "metadata": {},
   "source": [
    "## 80. コーパスの整形\n",
    "文を単語列に変換する最も単純な方法は，空白文字で単語に区切ることである． ただ，この方法では文末のピリオドや括弧などの記号が単語に含まれてしまう． そこで，コーパスの各行のテキストを空白文字でトークンのリストに分割した後，各トークンに以下の処理を施し，単語から記号を除去せよ．\n",
    "\n",
    "- トークンの先頭と末尾に出現する次の文字を削除: .,!?;:()[]'\"\n",
    "- 空文字列となったトークンは削除\n",
    "\n",
    "以上の処理を適用した後，トークンをスペースで連結してファイルに保存せよ．"
   ]
  },
  {
   "cell_type": "code",
   "execution_count": 1,
   "metadata": {},
   "outputs": [
    {
     "name": "stdout",
     "output_type": "stream",
     "text": [
      "Anarchism\r\n",
      "\r\n",
      "Anarchism is a political philosophy that advocates stateless societies often defined as self-governed voluntary institutions, but that several authors have defined as more specific institutions based on non-hierarchical free associations. Anarchism holds the state to be undesirable, unnecessary, or harmful. While anti-statism is central, anarchism entails opposing authority or hierarchical organisation in the conduct of human relations, including, but not limited to, the state system.\r\n",
      "As a subtle and anti-dogmatic philosophy, anarchism draws on many currents of thought and strategy. Anarchism does not offer a fixed body of doctrine from a single particular world view, instead fluxing and flowing as a philosophy. There are many types and traditions of anarchism, not all of which are mutually exclusive. Anarchist schools of thought can differ fundamentally, supporting anything from extreme individualism to complete collectivism. Strains of anarchism have often been divided into the categories of social and individualist anarchism or similar dual classifications. Anarchism is usually considered a radical left-wing ideology, and much of anarchist economics and anarchist legal philosophy reflect anti-authoritarian interpretations of communism, collectivism, syndicalism, mutualism, or participatory economics.\r\n",
      "The central tendency of anarchism as a social movement has been represented by anarcho-communism and anarcho-syndicalism, with individualist anarchism being primarily a literary phenomenon which nevertheless did have an impact on the bigger currents and individualists have also participated in large anarchist organisations. Many anarchists oppose all forms of aggression, supporting self-defense or non-violence (anarcho-pacifism), while others have supported the use of some coercive measures, including violent revolution and propaganda of the deed as means to achieve anarchist ends.\r\n"
     ]
    }
   ],
   "source": [
    "!head -n 5 ../data/enwiki-20150112-400-r100-10576.txt"
   ]
  },
  {
   "cell_type": "code",
   "execution_count": 2,
   "metadata": {},
   "outputs": [],
   "source": [
    "def tokenize(line):\n",
    "    for token in line.split():\n",
    "        yield token.strip('.,!?;:()[]\\'\"')\n",
    "\n",
    "def knock_80():\n",
    "    with open('../data/enwiki-20150112-400-r100-10576.txt') as f_in:\n",
    "        with open('../work/enwiki-20150112-400-r100-10576-tokenized.txt', 'w') as f_out:\n",
    "            for line in f_in:\n",
    "                tokens = [cleaned_token for cleaned_token in tokenize(line) if cleaned_token]\n",
    "                if len(tokens) > 0:\n",
    "                    tokenized_sentence = ' '.join(tokens)\n",
    "                    f_out.write(tokenized_sentence + '\\n')\n",
    "\n",
    "knock_80()"
   ]
  },
  {
   "cell_type": "code",
   "execution_count": 3,
   "metadata": {},
   "outputs": [
    {
     "name": "stdout",
     "output_type": "stream",
     "text": [
      "Anarchism\r\n",
      "Anarchism is a political philosophy that advocates stateless societies often defined as self-governed voluntary institutions but that several authors have defined as more specific institutions based on non-hierarchical free associations Anarchism holds the state to be undesirable unnecessary or harmful While anti-statism is central anarchism entails opposing authority or hierarchical organisation in the conduct of human relations including but not limited to the state system\r\n",
      "As a subtle and anti-dogmatic philosophy anarchism draws on many currents of thought and strategy Anarchism does not offer a fixed body of doctrine from a single particular world view instead fluxing and flowing as a philosophy There are many types and traditions of anarchism not all of which are mutually exclusive Anarchist schools of thought can differ fundamentally supporting anything from extreme individualism to complete collectivism Strains of anarchism have often been divided into the categories of social and individualist anarchism or similar dual classifications Anarchism is usually considered a radical left-wing ideology and much of anarchist economics and anarchist legal philosophy reflect anti-authoritarian interpretations of communism collectivism syndicalism mutualism or participatory economics\r\n",
      "The central tendency of anarchism as a social movement has been represented by anarcho-communism and anarcho-syndicalism with individualist anarchism being primarily a literary phenomenon which nevertheless did have an impact on the bigger currents and individualists have also participated in large anarchist organisations Many anarchists oppose all forms of aggression supporting self-defense or non-violence anarcho-pacifism while others have supported the use of some coercive measures including violent revolution and propaganda of the deed as means to achieve anarchist ends\r\n",
      "Etymology and terminology\r\n"
     ]
    }
   ],
   "source": [
    "!head -n 5 ../work/enwiki-20150112-400-r100-10576-tokenized.txt"
   ]
  },
  {
   "cell_type": "markdown",
   "metadata": {},
   "source": [
    "## 81. 複合語からなる国名への対処\n",
    "英語では，複数の語の連接が意味を成すことがある．例えば，アメリカ合衆国は\"United States\"，イギリスは\"United Kingdom\"と表現されるが，\"United\"や\"States\"，\"Kingdom\"という単語だけでは，指し示している概念・実体が曖昧である．そこで，コーパス中に含まれる複合語を認識し，複合語を1語として扱うことで，複合語の意味を推定したい．しかしながら，複合語を正確に認定するのは大変むずかしいので，ここでは複合語からなる国名を認定したい．\n",
    "\n",
    "インターネット上から国名リストを各自で入手し，80のコーパス中に出現する複合語の国名に関して，スペースをアンダーバーに置換せよ．例えば，\"United States\"は\"United_States\"，\"Isle of Man\"は\"Isle_of_Man\"になるはずである．"
   ]
  },
  {
   "cell_type": "code",
   "execution_count": 4,
   "metadata": {},
   "outputs": [
    {
     "name": "stdout",
     "output_type": "stream",
     "text": [
      "Afghanistan\r\n",
      "Albania\r\n",
      "Algeria\r\n",
      "Andorra\r\n",
      "Angola\r\n",
      "Antigua & Deps\r\n",
      "Argentina\r\n",
      "Armenia\r\n",
      "Australia\r\n",
      "Austria\r\n",
      "Azerbaijan\r\n",
      "Bahamas\r\n",
      "Bahrain\r\n",
      "Bangladesh\r\n",
      "Barbados\r\n",
      "Belarus\r\n",
      "Belgium\r\n",
      "Belize\r\n",
      "Benin\r\n",
      "Bhutan\r\n"
     ]
    }
   ],
   "source": [
    "# 国名リストは以下のものを使用\n",
    "# https://gist.github.com/kalinchernev/486393efcca01623b18d\n",
    "!head -n 20 ../data/countries"
   ]
  },
  {
   "cell_type": "code",
   "execution_count": 5,
   "metadata": {},
   "outputs": [],
   "source": [
    "from collections import defaultdict\n",
    "import pprint\n",
    "\n",
    "def read_compound_name_countries():\n",
    "    with open('../data/countries') as f:\n",
    "        compound_name_countries = defaultdict(list)\n",
    "        for line in f:\n",
    "            country_name_parts = line.rstrip().split(' ')\n",
    "            if len(country_name_parts) > 1:\n",
    "                head_token = country_name_parts[0]\n",
    "                rest_token = country_name_parts[1:]\n",
    "                # keyはheadの単語、valueは続く単語列のlist\n",
    "                # 'United': [['Arab', 'Emirates'], ['Kingdom'], ['States']]\n",
    "                # 'St': [['Kitts', '&', 'Nevis'], ['Lucia']]\n",
    "                compound_name_countries[head_token].append(rest_token)\n",
    "        return compound_name_countries\n",
    "    \n",
    "def replace_compound_name_country_in_a_line(line):\n",
    "    replaced = []\n",
    "    compound_name_countries = read_compound_name_countries()\n",
    "    skip_counter = 0\n",
    "    tokens = line.rstrip().split(' ')\n",
    "    for i, token in enumerate(tokens):\n",
    "        if skip_counter > 0:\n",
    "            # 置換した複合語の単語数だけ読み飛ばす\n",
    "            skip_counter -= 1\n",
    "            continue\n",
    "        if token in compound_name_countries:\n",
    "            rest_token_list = compound_name_countries[token]\n",
    "            for rest_token in rest_token_list:\n",
    "                if tokens[i+1: i+len(rest_token)+1] == rest_token:\n",
    "                    skip_counter = len(rest_token)\n",
    "                    replaced.append('_'.join(tokens[i: i+len(rest_token)+1]))\n",
    "        if skip_counter == 0:\n",
    "            replaced.append(token)\n",
    "    return ' '.join(replaced)\n",
    " \n",
    "def knock_81():\n",
    "    with open('../work/enwiki-20150112-400-r100-10576-tokenized.txt') as f_in:\n",
    "        with open('../work/enwiki-20150112-400-r100-10576-compound_replaced.txt', 'w') as f_out:\n",
    "            for line in f_in:\n",
    "                f_out.write(replace_compound_name_country_in_a_line(line) + '\\n')\n",
    "\n",
    "knock_81()"
   ]
  },
  {
   "cell_type": "code",
   "execution_count": 6,
   "metadata": {},
   "outputs": [
    {
     "name": "stdout",
     "output_type": "stream",
     "text": [
      "The term anarchism is a compound word composed from the word anarchy and the suffix -ism themselves derived respectively from the Greek i.e anarchy from anarchos meaning one without rulers from the privative prefix ἀν- an- i.e without and archos i.e leader ruler cf archon or arkhē i.e authority sovereignty realm magistracy and the suffix or -ismos -isma from the verbal infinitive suffix -ίζειν -izein The first known use of this word was in 1539.\"Anarchist was the term adopted by Maximilien de Robespierre to attack those on the left whom he had used for his own ends during the French Revolution but was determined to get rid of though among these anarchists there were few who exhibited the social revolt characteristics of later anarchists There would be many revolutionaries of the early nineteenth century who contributed to the anarchist doctrines of the next generation such as William Godwin and Wilhelm Weitling but they did not use the word anarchist or anarchism in describing themselves or their beliefs Pierre-Joseph Proudhon was the first political philosopher to call himself an anarchist marking the formal birth of anarchism in the mid-nineteenth century Since the 1890s from France the term libertarianism has often been used as a synonym for anarchism and was used almost exclusively in this sense until the 1950s in the United_States its use as a synonym is still common outside the United_States On the other hand some use libertarianism to refer to individualistic free-market philosophy only referring to free-market anarchism as libertarian anarchism\r\n"
     ]
    }
   ],
   "source": [
    "!head -n 10 ../work/enwiki-20150112-400-r100-10576-compound_replaced.txt | grep United"
   ]
  },
  {
   "cell_type": "code",
   "execution_count": 7,
   "metadata": {},
   "outputs": [
    {
     "name": "stdout",
     "output_type": "stream",
     "text": [
      "The British Museum's Oceanic collections originate from the vast area of the Pacific Ocean stretching from Papua_New_Guinea to Easter Island from New_Zealand to Hawaii The three main anthropological groups represented in the collection are Polynesia Melanesia and Micronesia – Aboriginal art from Australia is considered separately in its own right Metal working was not indigenous to Oceania before Europeans arrived so many of the artefacts from the collection are made from stone shell bone and bamboo The British Museum is fortunate in having some of the earliest objects made in Oceania in its collections many of which were collected by members of Cook's and Vancouver's expeditions before Western culture significantly impacted on local practices and ways of thinking The Wilson cabinet of curiosities from Palau is another example of pre-contact ware A particularly important group of objects was purchased from the London Missionary Society in 1911 that includes the unique statue of A'a from Rurutu in the Austral Islands the rare idol from Mangareva island and a figure of a god from the Cook Islands Another highlight is the huge Hawaiian statue of Kū-ka-ili-moku or god of war one of three extant in the world The Oceanic Collection is also famous for its large Easter Island statues Hoa Hakananai'a and Moai Hava\r\n"
     ]
    }
   ],
   "source": [
    "!head -n 1000 ../work/enwiki-20150112-400-r100-10576-compound_replaced.txt | grep Papua"
   ]
  },
  {
   "cell_type": "markdown",
   "metadata": {},
   "source": [
    "## 82. 文脈の抽出\n",
    "81で作成したコーパス中に出現するすべての単語$t$に関して，単語$t$と文脈語$c$のペアをタブ区切り形式ですべて書き出せ．ただし，文脈語の定義は次の通りとする．\n",
    "\n",
    "- ある単語$t$の前後$d$単語を文脈語$c$として抽出する（ただし，文脈語に単語tそのものは含まない）\n",
    "- 単語$t$を選ぶ度に，文脈幅$d$は${1,2,3,4,5}$の範囲でランダムに決める．"
   ]
  },
  {
   "cell_type": "code",
   "execution_count": 8,
   "metadata": {},
   "outputs": [],
   "source": [
    "import random\n",
    "\n",
    "def knock_82():\n",
    "    with open('../work/enwiki-20150112-400-r100-10576-compound_replaced.txt') as f_in:\n",
    "        with open('../work/enwiki-20150112-400-r100-10576-collocation.txt', 'w') as f_out:\n",
    "            random.seed(0)\n",
    "            for line in f_in:\n",
    "                tokens = line.rstrip().split(' ')\n",
    "                for i, token in enumerate(tokens):\n",
    "                    context_words = []\n",
    "                    d = random.randint(1, 5)\n",
    "                    context_words += tokens[max(0, i-d): i]\n",
    "                    context_words += tokens[i+1: i+1+d]\n",
    "                    for context_word in context_words:\n",
    "                        f_out.write('{}\\t{}\\n'.format(token, context_word))\n",
    "\n",
    "knock_82()"
   ]
  },
  {
   "cell_type": "code",
   "execution_count": 9,
   "metadata": {},
   "outputs": [
    {
     "name": "stdout",
     "output_type": "stream",
     "text": [
      "Anarchism\tis\r\n",
      "Anarchism\ta\r\n",
      "Anarchism\tpolitical\r\n",
      "Anarchism\tphilosophy\r\n",
      "is\tAnarchism\r\n",
      "is\ta\r\n",
      "a\tAnarchism\r\n",
      "a\tis\r\n",
      "a\tpolitical\r\n",
      "a\tphilosophy\r\n",
      "a\tthat\r\n",
      "political\tAnarchism\r\n",
      "political\tis\r\n",
      "political\ta\r\n",
      "political\tphilosophy\r\n",
      "political\tthat\r\n",
      "political\tadvocates\r\n",
      "political\tstateless\r\n",
      "political\tsocieties\r\n",
      "philosophy\tAnarchism\r\n",
      "philosophy\tis\r\n",
      "philosophy\ta\r\n",
      "philosophy\tpolitical\r\n",
      "philosophy\tthat\r\n",
      "philosophy\tadvocates\r\n",
      "philosophy\tstateless\r\n",
      "philosophy\tsocieties\r\n",
      "that\tis\r\n",
      "that\ta\r\n",
      "that\tpolitical\r\n"
     ]
    }
   ],
   "source": [
    "!head -n 30 ../work/enwiki-20150112-400-r100-10576-collocation.txt"
   ]
  },
  {
   "cell_type": "markdown",
   "metadata": {},
   "source": [
    "## 83. 単語／文脈の頻度の計測\n",
    "82の出力を利用し，以下の出現分布，および定数を求めよ．\n",
    "\n",
    "- $f(t,c)$: 単語$t$と文脈語$c$の共起回数\n",
    "- $f(t,\\ast)$: 単語$t$の出現回数\n",
    "- $f(\\ast,c)$: 文脈語$c$の出現回数\n",
    "- $N$: 単語と文脈語のペアの総出現回数"
   ]
  },
  {
   "cell_type": "code",
   "execution_count": 10,
   "metadata": {},
   "outputs": [
    {
     "name": "stderr",
     "output_type": "stream",
     "text": [
      "68094461it [02:06, 539093.52it/s]\n"
     ]
    },
    {
     "name": "stdout",
     "output_type": "stream",
     "text": [
      "N: 68094461\n"
     ]
    }
   ],
   "source": [
    "from collections import defaultdict\n",
    "from tqdm import tqdm\n",
    "import pickle\n",
    "\n",
    "def knock_83():\n",
    "    with open('../work/enwiki-20150112-400-r100-10576-collocation.txt', 'r') as f:\n",
    "        total_count = 0\n",
    "        t_counter = defaultdict(int)\n",
    "        c_counter = defaultdict(int)\n",
    "        tc_counter = defaultdict(int)\n",
    "        for i, line in tqdm(enumerate(f)):\n",
    "            t, c = line.lower().rstrip().split('\\t')\n",
    "            total_count += 1\n",
    "            t_counter[t] += 1\n",
    "            c_counter[c] += 1\n",
    "            tc_counter[t + '\\t' + c] += 1\n",
    "        with open('../work/t_counter.pkl', 'wb') as f:\n",
    "            pickle.dump(t_counter, f)\n",
    "        with open('../work/c_counter.pkl', 'wb') as f:\n",
    "            pickle.dump(c_counter, f)\n",
    "        with open('../work/tc_counter.pkl', 'wb') as f:\n",
    "            pickle.dump(tc_counter, f)\n",
    "        print('N: ' + str(total_count))\n",
    "    \n",
    "knock_83()"
   ]
  },
  {
   "cell_type": "markdown",
   "metadata": {},
   "source": [
    "## 84. 単語文脈行列の作成\n",
    "83の出力を利用し，単語文脈行列Xを作成せよ．ただし，行列Xの各要素$X_{tc}$は次のように定義する．\n",
    "\n",
    "- $ f(t,c) \\geq 10 $ ならば，$ X_{tc} = \\textrm{PPMI}(t,c) = \\max \\left\\{ \\log \\frac {N \\times f(t,c)}{f(t,\\ast) \\times f(\\ast,c)}, 0 \\right\\} $\n",
    "- $ f(t,c)<10 $ ならば，$ X_{tc} = 0 $\n",
    "\n",
    "ここで，$\\textrm{PPMI}(t,c)$はPositive Pointwise Mutual Information（正の相互情報量）と呼ばれる統計量である．なお，行列$X$の行数・列数は数百万オーダとなり，行列のすべての要素を主記憶上に載せることは無理なので注意すること．幸い，行列$X$のほとんどの要素は$0$になるので，非$0$の要素だけを書き出せばよい．"
   ]
  },
  {
   "cell_type": "code",
   "execution_count": 11,
   "metadata": {},
   "outputs": [],
   "source": [
    "from scipy.sparse import lil_matrix\n",
    "import math\n",
    "\n",
    "N = 68094461\n",
    "\n",
    "def knock_84():\n",
    "    with open('../work/t_counter.pkl', 'rb') as f:\n",
    "        t_counter = pickle.load(f)\n",
    "    with open('../work/c_counter.pkl', 'rb') as f:\n",
    "        c_counter = pickle.load(f)\n",
    "    with open('../work/tc_counter.pkl', 'rb') as f:\n",
    "        tc_counter = pickle.load(f)\n",
    "\n",
    "    word_to_index = { t:i for i, t in enumerate(t_counter) }\n",
    "    x = lil_matrix((len(t_counter), len(c_counter)))\n",
    "    for tc, tc_count in tc_counter.items():\n",
    "        if tc_count < 10:\n",
    "            continue\n",
    "        t, c = tc.split('\\t')\n",
    "        ppmi = max(math.log((N * tc_count) / (t_counter[t] * c_counter[c])), 0)\n",
    "        t_index = word_to_index[t]\n",
    "        c_index = word_to_index[c]\n",
    "        x[t_index, c_index] = ppmi\n",
    "    \n",
    "    with open('../work/x_ppmi.pkl', 'wb') as f:\n",
    "        pickle.dump(x, f)\n",
    "    with open('../work/word_to_index.pkl', 'wb') as f:\n",
    "        pickle.dump(word_to_index, f)\n",
    "\n",
    "knock_84()"
   ]
  },
  {
   "cell_type": "markdown",
   "metadata": {},
   "source": [
    "## 85. 主成分分析による次元圧縮\n",
    "84で得られた単語文脈行列に対して，主成分分析を適用し，単語の意味ベクトルを300次元に圧縮せよ．"
   ]
  },
  {
   "cell_type": "code",
   "execution_count": 13,
   "metadata": {},
   "outputs": [],
   "source": [
    "import pickle\n",
    "from sklearn.decomposition import SparsePCA, TruncatedSVD\n",
    "\n",
    "def knock_85():\n",
    "    with open('../work/x_ppmi.pkl', 'rb') as f:\n",
    "        x_ppmi = pickle.load(f)\n",
    "    \n",
    "    pca = TruncatedSVD(n_components=300)\n",
    "    word_vector = pca.fit_transform(x_ppmi)\n",
    "   \n",
    "    with open('../work/word_vector.pkl', 'wb') as f:\n",
    "        pickle.dump(word_vector, f)\n",
    "    \n",
    "knock_85()"
   ]
  },
  {
   "cell_type": "markdown",
   "metadata": {},
   "source": [
    "## 86. 単語ベクトルの表示\n",
    "85で得た単語の意味ベクトルを読み込み，\"United States\"のベクトルを表示せよ．ただし，\"United States\"は内部的には\"United_States\"と表現されていることに注意せよ．"
   ]
  },
  {
   "cell_type": "code",
   "execution_count": 17,
   "metadata": {},
   "outputs": [
    {
     "name": "stdout",
     "output_type": "stream",
     "text": [
      "[  4.18841406e+00  -1.16733820e+00   5.88191734e-01  -5.31552296e+00\n",
      "  -2.73870802e+00  -5.14608122e-01  -3.51967369e+00  -3.11551103e-01\n",
      "  -8.00419617e-02  -3.00518952e-02   5.35882457e+00   2.96880799e-01\n",
      "   5.28349542e-01  -2.07335780e+00   1.51941940e+00  -9.82592511e-02\n",
      "  -4.94920090e-01  -1.37049797e+00  -2.93736586e-01   1.42843369e+00\n",
      "   1.42331555e+00   1.48042928e+00  -1.09230078e+00   1.55525947e-01\n",
      "   9.95828926e-01  -5.31018223e-01  -1.60584578e+00  -4.63946735e-01\n",
      "   2.45329602e+00  -2.47914433e-01   3.49006230e+00  -4.15467012e-02\n",
      "  -1.42111238e-01   6.39385292e-01   6.62967076e-01  -2.51011472e-01\n",
      "   5.32299983e-01   6.36864347e-02   1.32971055e+00   9.08300630e-01\n",
      "   1.01411216e+00   7.42475328e-01  -3.25995468e-02   3.12299135e-01\n",
      "   2.73826283e-01  -1.30019771e+00   1.93034192e+00  -6.70167261e-01\n",
      "  -6.42043097e-01   2.57530052e-01  -4.11256405e-01   5.17060749e-01\n",
      "  -1.89711855e+00  -2.54041634e-01  -2.97449077e-01   4.49351835e-01\n",
      "   1.06539564e+00  -8.00005942e-01   1.74554944e-01  -9.75986595e-01\n",
      "  -3.23655142e-01   1.90734631e-01  -1.01620239e+00   9.42595855e-01\n",
      "   5.82407458e-01   6.73876308e-01   2.88128012e+00  -1.83012598e+00\n",
      "  -5.41308793e-02   1.04207934e+00  -8.15239438e-01   4.96750769e-02\n",
      "  -9.38082876e-01  -1.03802611e-01  -9.30195146e-01   3.78059693e-01\n",
      "  -1.58296109e+00   1.13901980e-01  -2.95721583e-02  -1.42737213e+00\n",
      "  -1.54939683e-01  -5.45400481e-01   6.22104499e-01   3.29208940e-01\n",
      "  -4.48904053e-01  -1.04554620e+00  -6.23270604e-01  -3.08654976e-01\n",
      "  -4.94780349e-02   5.45336632e-01   4.98413597e-01   1.11476180e+00\n",
      "   5.55174640e-01   8.72436373e-01   9.34685861e-01   3.82194256e-01\n",
      "   4.37763721e-01   1.15445845e+00  -8.81059931e-02   2.63737109e-01\n",
      "   1.40702250e+00   1.79358508e+00  -1.38738280e+00  -5.66641659e-01\n",
      "  -1.05780376e+00   9.70892192e-01   1.74657427e+00  -7.13476074e-01\n",
      "  -1.21429175e+00  -7.52025825e-02   1.89007376e+00   1.57397481e-03\n",
      "   1.67634817e+00  -5.36614437e-01  -1.21830865e+00   1.80722023e+00\n",
      "   1.24701367e-01   1.20647894e-01  -5.74830417e-01   7.41855236e-01\n",
      "  -3.98469043e-01   6.52846543e-01  -6.42404434e-01  -8.26012380e-01\n",
      "   4.65565398e-01  -6.78360797e-01  -6.95472298e-01  -1.49056393e+00\n",
      "   1.13164989e+00  -4.71234387e-01  -2.56315330e-01   1.58787039e+00\n",
      "  -7.56676276e-01  -1.43352376e+00  -7.73164441e-01   1.18321010e+00\n",
      "   3.12129861e-01  -9.37788888e-02   4.87741091e-01   5.06687892e-01\n",
      "   1.17100412e+00  -6.48410007e-01   1.97445311e-01   1.27267051e+00\n",
      "  -6.53459898e-01   8.19355965e-01   2.16628419e-01  -1.12146154e+00\n",
      "   9.26882672e-01  -1.13080684e-01  -3.08088551e-01   1.00525903e+00\n",
      "  -1.91778948e+00  -5.00954449e-02  -9.77577022e-01  -9.27449973e-01\n",
      "   1.46514025e+00   2.78408916e-01   1.08686992e+00  -1.57791910e-01\n",
      "   1.88846550e-01  -3.09004929e-01   5.34327282e-01   9.33229204e-01\n",
      "  -5.53570142e-01   6.80511789e-02   3.09927477e-02  -1.21293130e+00\n",
      "  -1.24017265e+00   1.61416944e+00  -1.62439878e+00   7.96731860e-01\n",
      "  -9.80189730e-01  -1.20929653e+00  -1.57476665e+00   5.77741189e-01\n",
      "   1.18224389e+00   2.02919561e-01  -9.16453523e-02  -8.13139269e-02\n",
      "   1.94839333e+00  -4.37394343e-01   1.70840583e-02   5.67090929e-01\n",
      "   5.45644706e-01  -7.68131334e-01  -1.80472967e-02   8.32658317e-01\n",
      "   1.43461237e+00   2.05089954e-01  -1.20073571e+00   1.55416644e+00\n",
      "  -8.28487172e-01   3.01003831e-01   3.69889533e-01  -8.39158747e-01\n",
      "  -1.15432996e-01   1.08495663e+00   9.61331880e-01  -4.25954973e-01\n",
      "   7.24533937e-02  -1.05357907e+00  -3.94424988e-01  -5.86434801e-01\n",
      "  -5.86575080e-01   1.13797358e+00   1.19696282e+00   9.47234542e-01\n",
      "   4.38750603e-02  -3.63543214e-01  -3.96876596e-01  -1.24423773e-01\n",
      "   5.22331353e-01  -4.89734683e-01   3.32023637e-01   3.55667707e-01\n",
      "  -4.14877407e-01  -2.59004510e-01   1.92130136e+00  -8.87486853e-01\n",
      "   6.63846162e-01   1.47398325e+00  -4.48332222e-01  -1.26748768e-01\n",
      "   1.09332243e+00  -1.26612997e+00   1.27045576e+00   3.22299340e-01\n",
      "  -4.05941117e-01  -1.03866163e+00   3.16886798e-01  -6.40911021e-01\n",
      "  -1.05072794e+00  -7.33248486e-01  -9.34327551e-02  -3.64181525e-01\n",
      "   1.50872474e+00   9.98938620e-01  -3.62479285e-01  -5.24091224e-01\n",
      "   1.12795860e-01   8.98854934e-01   5.60235873e-01  -1.20272672e+00\n",
      "  -5.01308848e-02  -8.30982630e-01   1.08432352e+00   7.96175598e-01\n",
      "  -5.42933430e-02   6.04061186e-01   4.45373312e-02   3.07285574e-01\n",
      "   3.16185535e-01  -2.96848475e-01   8.82183406e-01  -2.23299072e-01\n",
      "   2.79442252e-01  -5.48971307e-01   4.80185229e-01  -5.30508197e-01\n",
      "  -2.80216481e-01   1.99098231e-01  -3.21708591e-01  -7.37752089e-01\n",
      "  -9.53446523e-02   3.68694105e-01   6.30749234e-01   4.32705464e-01\n",
      "  -1.57543017e+00   1.07424243e+00  -5.11335126e-02   2.98539823e-02\n",
      "   4.71394491e-01   4.10422315e-01   8.92735341e-01  -2.12713480e-01\n",
      "   3.20716018e-02   3.24932364e-01   2.38491884e-01  -2.78727434e-01\n",
      "  -3.41537022e-01   6.18758121e-01  -5.32470002e-01   9.23863165e-01\n",
      "   1.28294314e-01  -1.37847964e-01   1.16143959e+00   3.19308451e-01\n",
      "   7.39524398e-01  -1.27933695e-01   1.04677158e+00   6.44368164e-01\n",
      "  -2.59837209e-01   3.73708809e-01   2.22402993e-01   1.26925751e-01\n",
      "  -6.99340708e-01  -9.24847603e-01   8.21397350e-01  -2.95680095e-01]\n"
     ]
    }
   ],
   "source": [
    "import pickle\n",
    "\n",
    "def knock_86():\n",
    "    with open('../work/word_vector.pkl', 'rb') as f:\n",
    "        word_vector = pickle.load(f)\n",
    "    with open('../work/word_to_index.pkl', 'rb') as f:\n",
    "        word_to_index = pickle.load(f)\n",
    "    print(word_vector[word_to_index['United_States'.lower()]])\n",
    "\n",
    "knock_86()"
   ]
  },
  {
   "cell_type": "markdown",
   "metadata": {},
   "source": [
    "## 87. 単語の類似度\n",
    "85で得た単語の意味ベクトルを読み込み，\"United States\"と\"U.S.\"のコサイン類似度を計算せよ．ただし，\"U.S.\"は内部的に\"U.S\"と表現されていることに注意せよ．"
   ]
  },
  {
   "cell_type": "code",
   "execution_count": null,
   "metadata": {},
   "outputs": [],
   "source": []
  },
  {
   "cell_type": "markdown",
   "metadata": {},
   "source": [
    "## 88. 類似度の高い単語10件\n",
    "85で得た単語の意味ベクトルを読み込み，\"England\"とコサイン類似度が高い10語と，その類似度を出力せよ．"
   ]
  },
  {
   "cell_type": "code",
   "execution_count": null,
   "metadata": {},
   "outputs": [],
   "source": []
  },
  {
   "cell_type": "markdown",
   "metadata": {},
   "source": [
    "## 89. 加法構成性によるアナロジー\n",
    "85で得た単語の意味ベクトルを読み込み，vec(\"Spain\") - vec(\"Madrid\") + vec(\"Athens\")を計算し，そのベクトルと類似度の高い10語とその類似度を出力せよ．"
   ]
  },
  {
   "cell_type": "code",
   "execution_count": null,
   "metadata": {},
   "outputs": [],
   "source": []
  }
 ],
 "metadata": {
  "kernelspec": {
   "display_name": "Python 3",
   "language": "python",
   "name": "python3"
  },
  "language_info": {
   "codemirror_mode": {
    "name": "ipython",
    "version": 3
   },
   "file_extension": ".py",
   "mimetype": "text/x-python",
   "name": "python",
   "nbconvert_exporter": "python",
   "pygments_lexer": "ipython3",
   "version": "3.6.2"
  }
 },
 "nbformat": 4,
 "nbformat_minor": 2
}
