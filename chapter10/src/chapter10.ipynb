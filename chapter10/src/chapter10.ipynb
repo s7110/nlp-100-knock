{
 "cells": [
  {
   "cell_type": "markdown",
   "metadata": {},
   "source": [
    "# 第10章: ベクトル空間法 (II)\n",
    "第10章では，前章に引き続き単語ベクトルの学習に取り組む．"
   ]
  },
  {
   "cell_type": "markdown",
   "metadata": {},
   "source": [
    "## 90. word2vecによる学習\n",
    "81で作成したコーパスに対してword2vecを適用し，単語ベクトルを学習せよ．さらに，学習した単語ベクトルの形式を変換し，86-89のプログラムを動かせ．"
   ]
  },
  {
   "cell_type": "code",
   "execution_count": 1,
   "metadata": {},
   "outputs": [
    {
     "name": "stdout",
     "output_type": "stream",
     "text": [
      "Anarchism\n",
      "Anarchism is a political philosophy that advocates stateless societies often defined as self-governed voluntary institutions but that several authors have defined as more specific institutions based on non-hierarchical free associations Anarchism holds the state to be undesirable unnecessary or harmful While anti-statism is central anarchism entails opposing authority or hierarchical organisation in the conduct of human relations including but not limited to the state system\n",
      "As a subtle and anti-dogmatic philosophy anarchism draws on many currents of thought and strategy Anarchism does not offer a fixed body of doctrine from a single particular world view instead fluxing and flowing as a philosophy There are many types and traditions of anarchism not all of which are mutually exclusive Anarchist schools of thought can differ fundamentally supporting anything from extreme individualism to complete collectivism Strains of anarchism have often been divided into the categories of social and individualist anarchism or similar dual classifications Anarchism is usually considered a radical left-wing ideology and much of anarchist economics and anarchist legal philosophy reflect anti-authoritarian interpretations of communism collectivism syndicalism mutualism or participatory economics\n",
      "The central tendency of anarchism as a social movement has been represented by anarcho-communism and anarcho-syndicalism with individualist anarchism being primarily a literary phenomenon which nevertheless did have an impact on the bigger currents and individualists have also participated in large anarchist organisations Many anarchists oppose all forms of aggression supporting self-defense or non-violence anarcho-pacifism while others have supported the use of some coercive measures including violent revolution and propaganda of the deed as means to achieve anarchist ends\n",
      "Etymology and terminology\n"
     ]
    }
   ],
   "source": [
    "!head -n 5 ../../chapter09/work/enwiki-20150112-400-r100-10576-compound_replaced.txt"
   ]
  },
  {
   "cell_type": "code",
   "execution_count": 2,
   "metadata": {},
   "outputs": [],
   "source": [
    "from gensim.models.word2vec import LineSentence, Word2Vec\n",
    "from gensim.test.utils import datapath\n",
    "\n",
    "sentences = LineSentence('../../chapter09/work/enwiki-20150112-400-r100-10576-compound_replaced.txt')\n",
    "model = Word2Vec(sentences, size=100, window=5, min_count=10, sg=1, hs=0, negative=5, workers=4)\n",
    "model.save('../work/word2vec_d100_w5_sg.model')"
   ]
  },
  {
   "cell_type": "code",
   "execution_count": 3,
   "metadata": {},
   "outputs": [
    {
     "name": "stdout",
     "output_type": "stream",
     "text": [
      "United_States の単語ベクトル:\n",
      "[-0.22973995  0.40200445  0.34421453  0.28919438  0.48147416  0.49443465\n",
      "  0.15673855 -0.17244482 -0.0892456   0.04869807  0.05364675  0.68151325\n",
      "  0.40667236 -0.27873564  0.49128044  0.10711592 -0.23499027  0.24820426\n",
      " -0.22678265 -0.00636051 -0.5007369   0.40460145  0.11214581 -0.02220128\n",
      "  0.13866962 -0.6351761  -0.11856941  0.2152162   0.24434619 -0.14506237\n",
      "  0.06293315 -0.32003585  0.6672128   0.6049493   0.13256231 -0.70506674\n",
      "  0.02116568 -0.06013344  0.2243821   0.24869251  0.3659247  -0.05015497\n",
      "  0.07481691 -0.03340689 -0.37099144 -0.57469934 -0.24273023  0.00329948\n",
      " -0.4537681   0.39686134  0.03681759 -0.4316198   0.47957566  0.31808162\n",
      "  0.00414515  0.21066937 -0.16097122 -0.04350206  0.86520225 -0.15035571\n",
      " -0.204073   -0.40912622 -0.38133255 -0.20733488  0.2642907   0.7181345\n",
      "  0.01918561 -0.00173116 -0.5413542   0.10316164  0.45388025 -0.18308556\n",
      "  0.03505403 -0.04935111  0.1608874  -0.0776216  -0.03734412  0.28746337\n",
      " -0.27174684 -0.47784606 -0.0194548   0.12194489 -0.14799246  0.16400914\n",
      "  0.01431843 -0.2503643  -0.00170083 -0.38094312  0.1997571   0.1576742\n",
      "  0.17018439  0.19013387 -0.00628431 -0.39392143  0.33302057 -0.1751076\n",
      " -0.46832407  0.17343162  0.00337733 -0.19332993]\n",
      "\n",
      "United_States と U.S の類似度:\n",
      "0.8882038\n",
      "\n",
      "England と類似度の高い単語10件\n",
      "[('Scotland', 0.8376622796058655), ('Wales', 0.8330987691879272), ('Ireland', 0.7778637409210205), ('Somerset', 0.7219210267066956), ('Britain', 0.7108242511749268), ('Cornwall', 0.7098491191864014), ('Suffolk', 0.7073822021484375), ('Perth', 0.7038341164588928), ('Lincolnshire', 0.7030438780784607), ('Derbyshire', 0.6977478861808777)]\n",
      "\n",
      "Spain - Madrid + Athens と類似度の高い単語10件\n",
      "[('Italy', 0.7005523443222046), ('Denmark', 0.6912456154823303), ('Greece', 0.6884505748748779), ('Sweden', 0.6817066073417664), ('Germany', 0.6714276671409607), ('Russia', 0.6694600582122803), ('Latvia', 0.6653041243553162), ('Netherlands', 0.6617974638938904), ('Belgium', 0.6556198596954346), ('Finland', 0.6546992063522339)]\n"
     ]
    }
   ],
   "source": [
    "from gensim.models.word2vec import Word2Vec\n",
    "\n",
    "def knock_90():\n",
    "    model = Word2Vec.load(\"../work/word2vec_d100_w5_sg.model\")\n",
    "    print(\"United_States の単語ベクトル:\")\n",
    "    print(model.wv[\"United_States\"])\n",
    "    \n",
    "    print(\"\\nUnited_States と U.S の類似度:\")\n",
    "    print(model.wv.similarity(\"United_States\", \"U.S\"))\n",
    "\n",
    "    print(\"\\nEngland と類似度の高い単語10件\")\n",
    "    print(model.wv.most_similar(positive=['England'], topn=10))\n",
    "    \n",
    "    print(\"\\nSpain - Madrid + Athens と類似度の高い単語10件\")\n",
    "    print(model.wv.most_similar(positive=[\"Spain\", \"Athens\"], negative=[\"Madrid\"], topn=10))\n",
    "    \n",
    "knock_90()"
   ]
  },
  {
   "cell_type": "markdown",
   "metadata": {},
   "source": [
    "## 91. アナロジーデータの準備\n",
    "単語アナロジーの評価データをダウンロードせよ．このデータ中で\": \"で始まる行はセクション名を表す．例えば，\": capital-common-countries\"という行は，\"capital-common-countries\"というセクションの開始を表している．ダウンロードした評価データの中で，\"family\"というセクションに含まれる評価事例を抜き出してファイルに保存せよ．"
   ]
  },
  {
   "cell_type": "code",
   "execution_count": 4,
   "metadata": {},
   "outputs": [],
   "source": [
    "def knock_91():\n",
    "    with open(\"../data/questions-words.txt\") as f_in, open(\"../work/questions-words-family.txt\", \"w\") as f_out:\n",
    "        is_family = False\n",
    "        for line in f_in:\n",
    "            if line.startswith(\": family\"):\n",
    "                is_family = True\n",
    "                continue\n",
    "            if line.startswith(\": \") and is_family:\n",
    "                break\n",
    "            if is_family:\n",
    "                f_out.write(line)\n",
    "\n",
    "knock_91()"
   ]
  },
  {
   "cell_type": "markdown",
   "metadata": {},
   "source": [
    "## 92. アナロジーデータへの適用\n",
    "91で作成した評価データの各事例に対して，vec(2列目の単語) - vec(1列目の単語) + vec(3列目の単語)を計算し，そのベクトルと類似度が最も高い単語と，その類似度を求めよ．求めた単語と類似度は，各事例の末尾に追記せよ．このプログラムを85で作成した単語ベクトル，90で作成した単語ベクトルに対して適用せよ．"
   ]
  },
  {
   "cell_type": "code",
   "execution_count": 6,
   "metadata": {},
   "outputs": [],
   "source": [
    "import pickle\n",
    "from functools import lru_cache\n",
    "from gensim.models.word2vec import Word2Vec\n",
    "from sklearn.metrics.pairwise import cosine_similarity\n",
    "\n",
    "with open('../../chapter09/work/word_vector.pkl', 'rb') as f:\n",
    "    word_vectors_85 = pickle.load(f)\n",
    "with open('../../chapter09/work/word_to_index.pkl', 'rb') as f:\n",
    "    word_to_index_85 = pickle.load(f)\n",
    "index_to_word_85 = { index:word for word,index in word_to_index_85.items() }\n",
    "\n",
    "model_90 = Word2Vec.load(\"../work/word2vec_d100_w5_sg.model\")\n",
    "\n",
    "\n",
    "def get_similar_word_and_vector_knock_85(base_word, minus_word, plus_word):\n",
    "    base_word_vector = word_vectors_85[word_to_index_85[base_word.lower()]]\n",
    "    minus_word_vector = word_vectors_85[word_to_index_85[minus_word.lower()]]\n",
    "    plus_word_vector = word_vectors_85[word_to_index_85[plus_word.lower()]]\n",
    "    target_vector = base_word_vector - minus_word_vector + plus_word_vector\n",
    "    \n",
    "    cosine_similarities = cosine_similarity(word_vectors_85, target_vector.reshape(1, -1))\n",
    "    most_similar_index = cosine_similarities.argmax()\n",
    "    word = index_to_word_85[most_similar_index]\n",
    "    score = cosine_similarities[most_similar_index][0]\n",
    "    return word, score\n",
    "\n",
    "def get_similar_word_and_vector_knock_90(base_word, minus_word, plus_word):\n",
    "    return model_90.wv.most_similar(positive=[base_word, plus_word], negative=[minus_word], topn=1)[0]\n",
    "\n",
    "def knock_92():\n",
    "    with open(\"../work/questions-words-family.txt\") as f_in, open(\"../work/questions-words-family-85.txt\", \"w\") as f_out_85, open(\"../work/questions-words-family-90.txt\", \"w\") as f_out_90:\n",
    "        for line in f_in:\n",
    "            minus, base, plus, answer = line.rstrip().split()\n",
    "            try:\n",
    "                pred_word_85, pred_similarity_85 = get_similar_word_and_vector_knock_85(base, minus, plus)\n",
    "                f_out_85.write(\" \".join([minus, base, plus, answer, pred_word_85, str(pred_similarity_85)]).rstrip() + \"\\n\")\n",
    "            except KeyError:\n",
    "                pass\n",
    "            \n",
    "            try:\n",
    "                pred_word_90, pred_similarity_90 = get_similar_word_and_vector_knock_90(base, minus, plus)\n",
    "                f_out_90.write(\" \".join([minus, base, plus, answer, pred_word_90, str(pred_similarity_90)]).rstrip() + \"\\n\")\n",
    "            except KeyError:\n",
    "                pass\n",
    "            \n",
    "knock_92()"
   ]
  },
  {
   "cell_type": "code",
   "execution_count": 7,
   "metadata": {},
   "outputs": [
    {
     "name": "stdout",
     "output_type": "stream",
     "text": [
      "boy girl brother sister brother 0.9368151100011339\r\n",
      "boy girl brothers sisters brothers 0.8131522467553747\r\n",
      "boy girl dad mom dad 0.7552971447268428\r\n",
      "boy girl father mother father 0.9078753940438338\r\n",
      "boy girl grandfather grandmother grandfather 0.7172331960659377\r\n"
     ]
    }
   ],
   "source": [
    "!head -n 5 ../work/questions-words-family-85.txt"
   ]
  },
  {
   "cell_type": "code",
   "execution_count": 8,
   "metadata": {},
   "outputs": [
    {
     "name": "stdout",
     "output_type": "stream",
     "text": [
      "boy girl brother sister nephew 0.729115903377533\r\n",
      "boy girl brothers sisters sisters 0.7195799946784973\r\n",
      "boy girl dad mom mum 0.8103965520858765\r\n",
      "boy girl father mother mother 0.8068951368331909\r\n",
      "boy girl grandfather grandmother granddaughter 0.7659761905670166\r\n"
     ]
    }
   ],
   "source": [
    "!head -n 5 ../work/questions-words-family-90.txt"
   ]
  },
  {
   "cell_type": "markdown",
   "metadata": {},
   "source": [
    "## 93. アナロジータスクの正解率の計算\n",
    "92で作ったデータを用い，各モデルのアナロジータスクの正解率を求めよ．"
   ]
  },
  {
   "cell_type": "code",
   "execution_count": 9,
   "metadata": {},
   "outputs": [
    {
     "name": "stdout",
     "output_type": "stream",
     "text": [
      "正解率 (Word2Vec): 0.5225\n",
      "正解率 (PMI):0.045454545454545456\n"
     ]
    }
   ],
   "source": [
    "import pandas as pd\n",
    "\n",
    "def calc_accuracy(file_path):\n",
    "    df = pd.read_csv(file_path, names=(\"minus\", \"base\", \"plus\", \"answer\", \"pred\", \"similarity\"), delim_whitespace=True)\n",
    "    return sum(1 for pred, answer in zip(list(df[\"pred\"]),list(df[\"answer\"])) if pred == answer) / float(len(list(df[\"answer\"])))\n",
    "    \n",
    "def knock_93():\n",
    "    print(\"正解率 (Word2Vec): \" + str(calc_accuracy(\"../work/questions-words-family-90.txt\")))\n",
    "    print(\"正解率 (PMI):\" + str(calc_accuracy(\"../work/questions-words-family-85.txt\")))\n",
    "    \n",
    "knock_93()"
   ]
  },
  {
   "cell_type": "markdown",
   "metadata": {},
   "source": [
    "## 94. WordSimilarity-353での類似度計算\n",
    "The WordSimilarity-353 Test Collectionの評価データを入力とし，1列目と2列目の単語の類似度を計算し，各行の末尾に類似度の値を追加するプログラムを作成せよ．このプログラムを85で作成した単語ベクトル，90で作成した単語ベクトルに対して適用せよ．"
   ]
  },
  {
   "cell_type": "code",
   "execution_count": null,
   "metadata": {},
   "outputs": [],
   "source": []
  },
  {
   "cell_type": "markdown",
   "metadata": {},
   "source": [
    "## 95. WordSimilarity-353での評価\n",
    "94で作ったデータを用い，各モデルが出力する類似度のランキングと，人間の類似度判定のランキングの間のスピアマン相関係数を計算せよ．"
   ]
  },
  {
   "cell_type": "code",
   "execution_count": null,
   "metadata": {},
   "outputs": [],
   "source": []
  },
  {
   "cell_type": "markdown",
   "metadata": {},
   "source": [
    "## 96. 国名に関するベクトルの抽出\n",
    "word2vecの学習結果から，国名に関するベクトルのみを抜き出せ．"
   ]
  },
  {
   "cell_type": "code",
   "execution_count": null,
   "metadata": {},
   "outputs": [],
   "source": []
  },
  {
   "cell_type": "markdown",
   "metadata": {},
   "source": [
    "## 97. k-meansクラスタリング\n",
    "96の単語ベクトルに対して，k-meansクラスタリングをクラスタ数k=5として実行せよ．"
   ]
  },
  {
   "cell_type": "code",
   "execution_count": null,
   "metadata": {},
   "outputs": [],
   "source": []
  },
  {
   "cell_type": "markdown",
   "metadata": {},
   "source": [
    "## 98. Ward法によるクラスタリング\n",
    "96の単語ベクトルに対して，Ward法による階層型クラスタリングを実行せよ．さらに，クラスタリング結果をデンドログラムとして可視化せよ．"
   ]
  },
  {
   "cell_type": "code",
   "execution_count": null,
   "metadata": {},
   "outputs": [],
   "source": []
  },
  {
   "cell_type": "markdown",
   "metadata": {},
   "source": [
    "## 99. t-SNEによる可視化\n",
    "96の単語ベクトルに対して，ベクトル空間をt-SNEで可視化せよ．"
   ]
  },
  {
   "cell_type": "code",
   "execution_count": null,
   "metadata": {},
   "outputs": [],
   "source": []
  },
  {
   "cell_type": "code",
   "execution_count": null,
   "metadata": {},
   "outputs": [],
   "source": []
  }
 ],
 "metadata": {
  "kernelspec": {
   "display_name": "Python 3",
   "language": "python",
   "name": "python3"
  },
  "language_info": {
   "codemirror_mode": {
    "name": "ipython",
    "version": 3
   },
   "file_extension": ".py",
   "mimetype": "text/x-python",
   "name": "python",
   "nbconvert_exporter": "python",
   "pygments_lexer": "ipython3",
   "version": "3.6.2"
  }
 },
 "nbformat": 4,
 "nbformat_minor": 2
}
